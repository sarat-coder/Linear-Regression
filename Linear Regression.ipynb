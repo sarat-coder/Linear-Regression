{
 "cells": [
  {
   "cell_type": "code",
   "execution_count": 18,
   "id": "romantic-mailman",
   "metadata": {},
   "outputs": [],
   "source": [
    "import pandas as pd\n",
    "import numpy as np\n",
    "import seaborn as sns\n",
    "import matplotlib.pyplot as plt\n",
    "from pandas_profiling import ProfileReport\n",
    "import pickle"
   ]
  },
  {
   "cell_type": "code",
   "execution_count": 270,
   "id": "accurate-universal",
   "metadata": {},
   "outputs": [],
   "source": [
    "df=pd.read_csv(\"ai4i2020.csv\")"
   ]
  },
  {
   "cell_type": "code",
   "execution_count": 271,
   "id": "injured-intervention",
   "metadata": {},
   "outputs": [],
   "source": [
    "df_origin=df.copy()"
   ]
  },
  {
   "cell_type": "code",
   "execution_count": 21,
   "id": "authentic-point",
   "metadata": {},
   "outputs": [
    {
     "data": {
      "text/html": [
       "<div>\n",
       "<style scoped>\n",
       "    .dataframe tbody tr th:only-of-type {\n",
       "        vertical-align: middle;\n",
       "    }\n",
       "\n",
       "    .dataframe tbody tr th {\n",
       "        vertical-align: top;\n",
       "    }\n",
       "\n",
       "    .dataframe thead th {\n",
       "        text-align: right;\n",
       "    }\n",
       "</style>\n",
       "<table border=\"1\" class=\"dataframe\">\n",
       "  <thead>\n",
       "    <tr style=\"text-align: right;\">\n",
       "      <th></th>\n",
       "      <th>UDI</th>\n",
       "      <th>Product ID</th>\n",
       "      <th>Type</th>\n",
       "      <th>Air temperature [K]</th>\n",
       "      <th>Process temperature [K]</th>\n",
       "      <th>Rotational speed [rpm]</th>\n",
       "      <th>Torque [Nm]</th>\n",
       "      <th>Tool wear [min]</th>\n",
       "      <th>Machine failure</th>\n",
       "      <th>TWF</th>\n",
       "      <th>HDF</th>\n",
       "      <th>PWF</th>\n",
       "      <th>OSF</th>\n",
       "      <th>RNF</th>\n",
       "    </tr>\n",
       "  </thead>\n",
       "  <tbody>\n",
       "    <tr>\n",
       "      <th>0</th>\n",
       "      <td>1</td>\n",
       "      <td>M14860</td>\n",
       "      <td>M</td>\n",
       "      <td>298.1</td>\n",
       "      <td>308.6</td>\n",
       "      <td>1551</td>\n",
       "      <td>42.8</td>\n",
       "      <td>0</td>\n",
       "      <td>0</td>\n",
       "      <td>0</td>\n",
       "      <td>0</td>\n",
       "      <td>0</td>\n",
       "      <td>0</td>\n",
       "      <td>0</td>\n",
       "    </tr>\n",
       "    <tr>\n",
       "      <th>1</th>\n",
       "      <td>2</td>\n",
       "      <td>L47181</td>\n",
       "      <td>L</td>\n",
       "      <td>298.2</td>\n",
       "      <td>308.7</td>\n",
       "      <td>1408</td>\n",
       "      <td>46.3</td>\n",
       "      <td>3</td>\n",
       "      <td>0</td>\n",
       "      <td>0</td>\n",
       "      <td>0</td>\n",
       "      <td>0</td>\n",
       "      <td>0</td>\n",
       "      <td>0</td>\n",
       "    </tr>\n",
       "    <tr>\n",
       "      <th>2</th>\n",
       "      <td>3</td>\n",
       "      <td>L47182</td>\n",
       "      <td>L</td>\n",
       "      <td>298.1</td>\n",
       "      <td>308.5</td>\n",
       "      <td>1498</td>\n",
       "      <td>49.4</td>\n",
       "      <td>5</td>\n",
       "      <td>0</td>\n",
       "      <td>0</td>\n",
       "      <td>0</td>\n",
       "      <td>0</td>\n",
       "      <td>0</td>\n",
       "      <td>0</td>\n",
       "    </tr>\n",
       "    <tr>\n",
       "      <th>3</th>\n",
       "      <td>4</td>\n",
       "      <td>L47183</td>\n",
       "      <td>L</td>\n",
       "      <td>298.2</td>\n",
       "      <td>308.6</td>\n",
       "      <td>1433</td>\n",
       "      <td>39.5</td>\n",
       "      <td>7</td>\n",
       "      <td>0</td>\n",
       "      <td>0</td>\n",
       "      <td>0</td>\n",
       "      <td>0</td>\n",
       "      <td>0</td>\n",
       "      <td>0</td>\n",
       "    </tr>\n",
       "    <tr>\n",
       "      <th>4</th>\n",
       "      <td>5</td>\n",
       "      <td>L47184</td>\n",
       "      <td>L</td>\n",
       "      <td>298.2</td>\n",
       "      <td>308.7</td>\n",
       "      <td>1408</td>\n",
       "      <td>40.0</td>\n",
       "      <td>9</td>\n",
       "      <td>0</td>\n",
       "      <td>0</td>\n",
       "      <td>0</td>\n",
       "      <td>0</td>\n",
       "      <td>0</td>\n",
       "      <td>0</td>\n",
       "    </tr>\n",
       "  </tbody>\n",
       "</table>\n",
       "</div>"
      ],
      "text/plain": [
       "   UDI Product ID Type  Air temperature [K]  Process temperature [K]  \\\n",
       "0    1     M14860    M                298.1                    308.6   \n",
       "1    2     L47181    L                298.2                    308.7   \n",
       "2    3     L47182    L                298.1                    308.5   \n",
       "3    4     L47183    L                298.2                    308.6   \n",
       "4    5     L47184    L                298.2                    308.7   \n",
       "\n",
       "   Rotational speed [rpm]  Torque [Nm]  Tool wear [min]  Machine failure  TWF  \\\n",
       "0                    1551         42.8                0                0    0   \n",
       "1                    1408         46.3                3                0    0   \n",
       "2                    1498         49.4                5                0    0   \n",
       "3                    1433         39.5                7                0    0   \n",
       "4                    1408         40.0                9                0    0   \n",
       "\n",
       "   HDF  PWF  OSF  RNF  \n",
       "0    0    0    0    0  \n",
       "1    0    0    0    0  \n",
       "2    0    0    0    0  \n",
       "3    0    0    0    0  \n",
       "4    0    0    0    0  "
      ]
     },
     "execution_count": 21,
     "metadata": {},
     "output_type": "execute_result"
    }
   ],
   "source": [
    "df.head()"
   ]
  },
  {
   "cell_type": "code",
   "execution_count": 22,
   "id": "legislative-improvement",
   "metadata": {},
   "outputs": [
    {
     "data": {
      "text/html": [
       "<div>\n",
       "<style scoped>\n",
       "    .dataframe tbody tr th:only-of-type {\n",
       "        vertical-align: middle;\n",
       "    }\n",
       "\n",
       "    .dataframe tbody tr th {\n",
       "        vertical-align: top;\n",
       "    }\n",
       "\n",
       "    .dataframe thead th {\n",
       "        text-align: right;\n",
       "    }\n",
       "</style>\n",
       "<table border=\"1\" class=\"dataframe\">\n",
       "  <thead>\n",
       "    <tr style=\"text-align: right;\">\n",
       "      <th></th>\n",
       "      <th>UDI</th>\n",
       "      <th>Product ID</th>\n",
       "      <th>Type</th>\n",
       "      <th>Air temperature [K]</th>\n",
       "      <th>Process temperature [K]</th>\n",
       "      <th>Rotational speed [rpm]</th>\n",
       "      <th>Torque [Nm]</th>\n",
       "      <th>Tool wear [min]</th>\n",
       "      <th>Machine failure</th>\n",
       "      <th>TWF</th>\n",
       "      <th>HDF</th>\n",
       "      <th>PWF</th>\n",
       "      <th>OSF</th>\n",
       "      <th>RNF</th>\n",
       "    </tr>\n",
       "  </thead>\n",
       "  <tbody>\n",
       "    <tr>\n",
       "      <th>count</th>\n",
       "      <td>10000.00000</td>\n",
       "      <td>10000</td>\n",
       "      <td>10000</td>\n",
       "      <td>10000.000000</td>\n",
       "      <td>10000.000000</td>\n",
       "      <td>10000.000000</td>\n",
       "      <td>10000.000000</td>\n",
       "      <td>10000.000000</td>\n",
       "      <td>10000.000000</td>\n",
       "      <td>10000.000000</td>\n",
       "      <td>10000.000000</td>\n",
       "      <td>10000.000000</td>\n",
       "      <td>10000.000000</td>\n",
       "      <td>10000.00000</td>\n",
       "    </tr>\n",
       "    <tr>\n",
       "      <th>unique</th>\n",
       "      <td>NaN</td>\n",
       "      <td>10000</td>\n",
       "      <td>3</td>\n",
       "      <td>NaN</td>\n",
       "      <td>NaN</td>\n",
       "      <td>NaN</td>\n",
       "      <td>NaN</td>\n",
       "      <td>NaN</td>\n",
       "      <td>NaN</td>\n",
       "      <td>NaN</td>\n",
       "      <td>NaN</td>\n",
       "      <td>NaN</td>\n",
       "      <td>NaN</td>\n",
       "      <td>NaN</td>\n",
       "    </tr>\n",
       "    <tr>\n",
       "      <th>top</th>\n",
       "      <td>NaN</td>\n",
       "      <td>L51017</td>\n",
       "      <td>L</td>\n",
       "      <td>NaN</td>\n",
       "      <td>NaN</td>\n",
       "      <td>NaN</td>\n",
       "      <td>NaN</td>\n",
       "      <td>NaN</td>\n",
       "      <td>NaN</td>\n",
       "      <td>NaN</td>\n",
       "      <td>NaN</td>\n",
       "      <td>NaN</td>\n",
       "      <td>NaN</td>\n",
       "      <td>NaN</td>\n",
       "    </tr>\n",
       "    <tr>\n",
       "      <th>freq</th>\n",
       "      <td>NaN</td>\n",
       "      <td>1</td>\n",
       "      <td>6000</td>\n",
       "      <td>NaN</td>\n",
       "      <td>NaN</td>\n",
       "      <td>NaN</td>\n",
       "      <td>NaN</td>\n",
       "      <td>NaN</td>\n",
       "      <td>NaN</td>\n",
       "      <td>NaN</td>\n",
       "      <td>NaN</td>\n",
       "      <td>NaN</td>\n",
       "      <td>NaN</td>\n",
       "      <td>NaN</td>\n",
       "    </tr>\n",
       "    <tr>\n",
       "      <th>mean</th>\n",
       "      <td>5000.50000</td>\n",
       "      <td>NaN</td>\n",
       "      <td>NaN</td>\n",
       "      <td>300.004930</td>\n",
       "      <td>310.005560</td>\n",
       "      <td>1538.776100</td>\n",
       "      <td>39.986910</td>\n",
       "      <td>107.951000</td>\n",
       "      <td>0.033900</td>\n",
       "      <td>0.004600</td>\n",
       "      <td>0.011500</td>\n",
       "      <td>0.009500</td>\n",
       "      <td>0.009800</td>\n",
       "      <td>0.00190</td>\n",
       "    </tr>\n",
       "    <tr>\n",
       "      <th>std</th>\n",
       "      <td>2886.89568</td>\n",
       "      <td>NaN</td>\n",
       "      <td>NaN</td>\n",
       "      <td>2.000259</td>\n",
       "      <td>1.483734</td>\n",
       "      <td>179.284096</td>\n",
       "      <td>9.968934</td>\n",
       "      <td>63.654147</td>\n",
       "      <td>0.180981</td>\n",
       "      <td>0.067671</td>\n",
       "      <td>0.106625</td>\n",
       "      <td>0.097009</td>\n",
       "      <td>0.098514</td>\n",
       "      <td>0.04355</td>\n",
       "    </tr>\n",
       "    <tr>\n",
       "      <th>min</th>\n",
       "      <td>1.00000</td>\n",
       "      <td>NaN</td>\n",
       "      <td>NaN</td>\n",
       "      <td>295.300000</td>\n",
       "      <td>305.700000</td>\n",
       "      <td>1168.000000</td>\n",
       "      <td>3.800000</td>\n",
       "      <td>0.000000</td>\n",
       "      <td>0.000000</td>\n",
       "      <td>0.000000</td>\n",
       "      <td>0.000000</td>\n",
       "      <td>0.000000</td>\n",
       "      <td>0.000000</td>\n",
       "      <td>0.00000</td>\n",
       "    </tr>\n",
       "    <tr>\n",
       "      <th>25%</th>\n",
       "      <td>2500.75000</td>\n",
       "      <td>NaN</td>\n",
       "      <td>NaN</td>\n",
       "      <td>298.300000</td>\n",
       "      <td>308.800000</td>\n",
       "      <td>1423.000000</td>\n",
       "      <td>33.200000</td>\n",
       "      <td>53.000000</td>\n",
       "      <td>0.000000</td>\n",
       "      <td>0.000000</td>\n",
       "      <td>0.000000</td>\n",
       "      <td>0.000000</td>\n",
       "      <td>0.000000</td>\n",
       "      <td>0.00000</td>\n",
       "    </tr>\n",
       "    <tr>\n",
       "      <th>50%</th>\n",
       "      <td>5000.50000</td>\n",
       "      <td>NaN</td>\n",
       "      <td>NaN</td>\n",
       "      <td>300.100000</td>\n",
       "      <td>310.100000</td>\n",
       "      <td>1503.000000</td>\n",
       "      <td>40.100000</td>\n",
       "      <td>108.000000</td>\n",
       "      <td>0.000000</td>\n",
       "      <td>0.000000</td>\n",
       "      <td>0.000000</td>\n",
       "      <td>0.000000</td>\n",
       "      <td>0.000000</td>\n",
       "      <td>0.00000</td>\n",
       "    </tr>\n",
       "    <tr>\n",
       "      <th>75%</th>\n",
       "      <td>7500.25000</td>\n",
       "      <td>NaN</td>\n",
       "      <td>NaN</td>\n",
       "      <td>301.500000</td>\n",
       "      <td>311.100000</td>\n",
       "      <td>1612.000000</td>\n",
       "      <td>46.800000</td>\n",
       "      <td>162.000000</td>\n",
       "      <td>0.000000</td>\n",
       "      <td>0.000000</td>\n",
       "      <td>0.000000</td>\n",
       "      <td>0.000000</td>\n",
       "      <td>0.000000</td>\n",
       "      <td>0.00000</td>\n",
       "    </tr>\n",
       "    <tr>\n",
       "      <th>max</th>\n",
       "      <td>10000.00000</td>\n",
       "      <td>NaN</td>\n",
       "      <td>NaN</td>\n",
       "      <td>304.500000</td>\n",
       "      <td>313.800000</td>\n",
       "      <td>2886.000000</td>\n",
       "      <td>76.600000</td>\n",
       "      <td>253.000000</td>\n",
       "      <td>1.000000</td>\n",
       "      <td>1.000000</td>\n",
       "      <td>1.000000</td>\n",
       "      <td>1.000000</td>\n",
       "      <td>1.000000</td>\n",
       "      <td>1.00000</td>\n",
       "    </tr>\n",
       "  </tbody>\n",
       "</table>\n",
       "</div>"
      ],
      "text/plain": [
       "                UDI Product ID   Type  Air temperature [K]  \\\n",
       "count   10000.00000      10000  10000         10000.000000   \n",
       "unique          NaN      10000      3                  NaN   \n",
       "top             NaN     L51017      L                  NaN   \n",
       "freq            NaN          1   6000                  NaN   \n",
       "mean     5000.50000        NaN    NaN           300.004930   \n",
       "std      2886.89568        NaN    NaN             2.000259   \n",
       "min         1.00000        NaN    NaN           295.300000   \n",
       "25%      2500.75000        NaN    NaN           298.300000   \n",
       "50%      5000.50000        NaN    NaN           300.100000   \n",
       "75%      7500.25000        NaN    NaN           301.500000   \n",
       "max     10000.00000        NaN    NaN           304.500000   \n",
       "\n",
       "        Process temperature [K]  Rotational speed [rpm]   Torque [Nm]  \\\n",
       "count              10000.000000            10000.000000  10000.000000   \n",
       "unique                      NaN                     NaN           NaN   \n",
       "top                         NaN                     NaN           NaN   \n",
       "freq                        NaN                     NaN           NaN   \n",
       "mean                 310.005560             1538.776100     39.986910   \n",
       "std                    1.483734              179.284096      9.968934   \n",
       "min                  305.700000             1168.000000      3.800000   \n",
       "25%                  308.800000             1423.000000     33.200000   \n",
       "50%                  310.100000             1503.000000     40.100000   \n",
       "75%                  311.100000             1612.000000     46.800000   \n",
       "max                  313.800000             2886.000000     76.600000   \n",
       "\n",
       "        Tool wear [min]  Machine failure           TWF           HDF  \\\n",
       "count      10000.000000     10000.000000  10000.000000  10000.000000   \n",
       "unique              NaN              NaN           NaN           NaN   \n",
       "top                 NaN              NaN           NaN           NaN   \n",
       "freq                NaN              NaN           NaN           NaN   \n",
       "mean         107.951000         0.033900      0.004600      0.011500   \n",
       "std           63.654147         0.180981      0.067671      0.106625   \n",
       "min            0.000000         0.000000      0.000000      0.000000   \n",
       "25%           53.000000         0.000000      0.000000      0.000000   \n",
       "50%          108.000000         0.000000      0.000000      0.000000   \n",
       "75%          162.000000         0.000000      0.000000      0.000000   \n",
       "max          253.000000         1.000000      1.000000      1.000000   \n",
       "\n",
       "                 PWF           OSF          RNF  \n",
       "count   10000.000000  10000.000000  10000.00000  \n",
       "unique           NaN           NaN          NaN  \n",
       "top              NaN           NaN          NaN  \n",
       "freq             NaN           NaN          NaN  \n",
       "mean        0.009500      0.009800      0.00190  \n",
       "std         0.097009      0.098514      0.04355  \n",
       "min         0.000000      0.000000      0.00000  \n",
       "25%         0.000000      0.000000      0.00000  \n",
       "50%         0.000000      0.000000      0.00000  \n",
       "75%         0.000000      0.000000      0.00000  \n",
       "max         1.000000      1.000000      1.00000  "
      ]
     },
     "execution_count": 22,
     "metadata": {},
     "output_type": "execute_result"
    }
   ],
   "source": [
    "df.describe(include='all')"
   ]
  },
  {
   "cell_type": "code",
   "execution_count": 23,
   "id": "funny-hepatitis",
   "metadata": {},
   "outputs": [],
   "source": [
    "pf=ProfileReport(df)"
   ]
  },
  {
   "cell_type": "code",
   "execution_count": 24,
   "id": "expressed-chosen",
   "metadata": {},
   "outputs": [
    {
     "data": {
      "application/vnd.jupyter.widget-view+json": {
       "model_id": "cbc68d8920904da181d6207751ea385b",
       "version_major": 2,
       "version_minor": 0
      },
      "text/plain": [
       "Summarize dataset:   0%|          | 0/27 [00:00<?, ?it/s]"
      ]
     },
     "metadata": {},
     "output_type": "display_data"
    },
    {
     "data": {
      "application/vnd.jupyter.widget-view+json": {
       "model_id": "3b4db37738ef43148f4c7f56c9bce6d7",
       "version_major": 2,
       "version_minor": 0
      },
      "text/plain": [
       "Generate report structure:   0%|          | 0/1 [00:00<?, ?it/s]"
      ]
     },
     "metadata": {},
     "output_type": "display_data"
    },
    {
     "data": {
      "application/vnd.jupyter.widget-view+json": {
       "model_id": "",
       "version_major": 2,
       "version_minor": 0
      },
      "text/plain": [
       "Render widgets:   0%|          | 0/1 [00:00<?, ?it/s]"
      ]
     },
     "metadata": {},
     "output_type": "display_data"
    },
    {
     "data": {
      "application/vnd.jupyter.widget-view+json": {
       "model_id": "2018a360639a453eafce50a9f30b9cc4",
       "version_major": 2,
       "version_minor": 0
      },
      "text/plain": [
       "VBox(children=(Tab(children=(Tab(children=(GridBox(children=(VBox(children=(GridspecLayout(children=(HTML(valu…"
      ]
     },
     "metadata": {},
     "output_type": "display_data"
    }
   ],
   "source": [
    "pf.to_widgets()"
   ]
  },
  {
   "cell_type": "code",
   "execution_count": 155,
   "id": "trying-andrew",
   "metadata": {},
   "outputs": [
    {
     "data": {
      "application/vnd.jupyter.widget-view+json": {
       "model_id": "7ab20d1f65fe4854abfb42c405b06a05",
       "version_major": 2,
       "version_minor": 0
      },
      "text/plain": [
       "Render HTML:   0%|          | 0/1 [00:00<?, ?it/s]"
      ]
     },
     "metadata": {},
     "output_type": "display_data"
    },
    {
     "data": {
      "application/vnd.jupyter.widget-view+json": {
       "model_id": "2d736b0bcfba4430aeadaf970ea3d0f0",
       "version_major": 2,
       "version_minor": 0
      },
      "text/plain": [
       "Export report to file:   0%|          | 0/1 [00:00<?, ?it/s]"
      ]
     },
     "metadata": {},
     "output_type": "display_data"
    }
   ],
   "source": [
    "pf.to_file('pd_profiling.html')"
   ]
  },
  {
   "cell_type": "markdown",
   "id": "invalid-growth",
   "metadata": {},
   "source": [
    "# Findings from Overview section......\n",
    "### Unique ID's like UID and Product_ID are irrelevant for predictive model, we can drop them.\n",
    "### There are 10,000 observations with 14 features , out of which 6 are numeric and 8 are categorical.\n",
    "### No duplicates are found.\n",
    "### No missing values\n",
    "\n",
    "# Findings from target column-Air Temparature\n",
    "### This is a categorical field with three categories (L,M and H)-L is having highest distribution of 6000 observations, H- is having 1003 nos of lowest no of observations and M is having 2997 no of observations.\n",
    "\n",
    "# Findings from target column-Air Temparature\n",
    "### This is our target column.\n",
    "### Data is normally distributed with mean and median at  300 and standard deviation of 2.\n",
    "\n",
    "# Findings from Process temperature [K]\n",
    "### data is normally distributed with mean and median at 310 and with a standard deviation of 1.48\n",
    "\n",
    "# Findings from Rotational speed [rpm]\n",
    "### data is skewed towards right (right tailed) with a skewness 1.99 i.e some outliers are present in +ve side.\n",
    "### But normally distributed between 1168 and 1750\n",
    "### few of data points between 1800 and 2826 are seems outliers \n",
    "\n",
    "# Findings from Torque [Nm]\n",
    "### data is normally distributed with a mean and median at 40 and standard deviation of 9.96.\n",
    "### Negligible skewness.\n",
    "\n",
    "# Findings from Tool wear [min]\n",
    "### Maximim data points except few are having same frequencies lies between 200 to 250\n",
    "### No missing values but Zeros are there.\n",
    "### little skewneed towards right.\n",
    "\n",
    "# Findings from Machine failure\n",
    "### It is a categorical field of failure or not failure.\n",
    "### 9661 times machine get failure whereas 339 times machine not get failured.\n",
    "\n",
    "# Findings from TWF\n",
    "### It is a caregorical field having values 0 (9954 observations )and 1  (46 observations)\n",
    "\n",
    "# Findings from HDF\n",
    "### It is a caregorical field having values 0 (9885 observations )and 1  (115 observations)\n",
    "\n",
    "# Findings from PWF\n",
    "### It is a caregorical field having values 0 (9905 observations )and 1  (95 observations)\n",
    "\n",
    "# Findings from OSF\n",
    "### It is a caregorical field having values 0 (9902 observations )and 1  (98 observations)\n",
    "\n",
    "# Findings from RNF\n",
    "### It is a caregorical field having values 0 (9981 observations )and 1  (19 observations)"
   ]
  },
  {
   "cell_type": "code",
   "execution_count": 159,
   "id": "christian-youth",
   "metadata": {},
   "outputs": [
    {
     "data": {
      "text/html": [
       "<div>\n",
       "<style scoped>\n",
       "    .dataframe tbody tr th:only-of-type {\n",
       "        vertical-align: middle;\n",
       "    }\n",
       "\n",
       "    .dataframe tbody tr th {\n",
       "        vertical-align: top;\n",
       "    }\n",
       "\n",
       "    .dataframe thead th {\n",
       "        text-align: right;\n",
       "    }\n",
       "</style>\n",
       "<table border=\"1\" class=\"dataframe\">\n",
       "  <thead>\n",
       "    <tr style=\"text-align: right;\">\n",
       "      <th></th>\n",
       "      <th>UDI</th>\n",
       "      <th>Air temperature [K]</th>\n",
       "      <th>Process temperature [K]</th>\n",
       "      <th>Rotational speed [rpm]</th>\n",
       "      <th>Torque [Nm]</th>\n",
       "      <th>Tool wear [min]</th>\n",
       "      <th>Machine failure</th>\n",
       "      <th>TWF</th>\n",
       "      <th>HDF</th>\n",
       "      <th>PWF</th>\n",
       "      <th>OSF</th>\n",
       "      <th>RNF</th>\n",
       "    </tr>\n",
       "  </thead>\n",
       "  <tbody>\n",
       "    <tr>\n",
       "      <th>UDI</th>\n",
       "      <td>1.000000</td>\n",
       "      <td>0.117428</td>\n",
       "      <td>0.324428</td>\n",
       "      <td>-0.001266</td>\n",
       "      <td>0.003207</td>\n",
       "      <td>-0.010794</td>\n",
       "      <td>-0.022892</td>\n",
       "      <td>0.009154</td>\n",
       "      <td>-0.022215</td>\n",
       "      <td>-0.023557</td>\n",
       "      <td>-0.000990</td>\n",
       "      <td>-0.005954</td>\n",
       "    </tr>\n",
       "    <tr>\n",
       "      <th>Air temperature [K]</th>\n",
       "      <td>0.117428</td>\n",
       "      <td>1.000000</td>\n",
       "      <td>0.876107</td>\n",
       "      <td>0.018303</td>\n",
       "      <td>-0.013778</td>\n",
       "      <td>0.013595</td>\n",
       "      <td>0.082556</td>\n",
       "      <td>0.009955</td>\n",
       "      <td>0.137831</td>\n",
       "      <td>0.003470</td>\n",
       "      <td>0.001988</td>\n",
       "      <td>0.017688</td>\n",
       "    </tr>\n",
       "    <tr>\n",
       "      <th>Process temperature [K]</th>\n",
       "      <td>0.324428</td>\n",
       "      <td>0.876107</td>\n",
       "      <td>1.000000</td>\n",
       "      <td>0.018863</td>\n",
       "      <td>-0.014061</td>\n",
       "      <td>0.013027</td>\n",
       "      <td>0.035946</td>\n",
       "      <td>0.007315</td>\n",
       "      <td>0.056933</td>\n",
       "      <td>-0.003355</td>\n",
       "      <td>0.004554</td>\n",
       "      <td>0.022279</td>\n",
       "    </tr>\n",
       "    <tr>\n",
       "      <th>Rotational speed [rpm]</th>\n",
       "      <td>-0.001266</td>\n",
       "      <td>0.018303</td>\n",
       "      <td>0.018863</td>\n",
       "      <td>1.000000</td>\n",
       "      <td>-0.917809</td>\n",
       "      <td>0.001387</td>\n",
       "      <td>-0.162414</td>\n",
       "      <td>0.008995</td>\n",
       "      <td>-0.169814</td>\n",
       "      <td>-0.014475</td>\n",
       "      <td>-0.145916</td>\n",
       "      <td>-0.011708</td>\n",
       "    </tr>\n",
       "    <tr>\n",
       "      <th>Torque [Nm]</th>\n",
       "      <td>0.003207</td>\n",
       "      <td>-0.013778</td>\n",
       "      <td>-0.014061</td>\n",
       "      <td>-0.917809</td>\n",
       "      <td>1.000000</td>\n",
       "      <td>-0.001729</td>\n",
       "      <td>0.191321</td>\n",
       "      <td>-0.014662</td>\n",
       "      <td>0.142610</td>\n",
       "      <td>0.083781</td>\n",
       "      <td>0.183465</td>\n",
       "      <td>0.016136</td>\n",
       "    </tr>\n",
       "    <tr>\n",
       "      <th>Tool wear [min]</th>\n",
       "      <td>-0.010794</td>\n",
       "      <td>0.013595</td>\n",
       "      <td>0.013027</td>\n",
       "      <td>0.001387</td>\n",
       "      <td>-0.001729</td>\n",
       "      <td>1.000000</td>\n",
       "      <td>0.106309</td>\n",
       "      <td>0.116444</td>\n",
       "      <td>-0.003572</td>\n",
       "      <td>-0.006151</td>\n",
       "      <td>0.156604</td>\n",
       "      <td>0.010614</td>\n",
       "    </tr>\n",
       "    <tr>\n",
       "      <th>Machine failure</th>\n",
       "      <td>-0.022892</td>\n",
       "      <td>0.082556</td>\n",
       "      <td>0.035946</td>\n",
       "      <td>-0.162414</td>\n",
       "      <td>0.191321</td>\n",
       "      <td>0.106309</td>\n",
       "      <td>1.000000</td>\n",
       "      <td>0.362904</td>\n",
       "      <td>0.575800</td>\n",
       "      <td>0.522812</td>\n",
       "      <td>0.531083</td>\n",
       "      <td>0.004516</td>\n",
       "    </tr>\n",
       "    <tr>\n",
       "      <th>TWF</th>\n",
       "      <td>0.009154</td>\n",
       "      <td>0.009955</td>\n",
       "      <td>0.007315</td>\n",
       "      <td>0.008995</td>\n",
       "      <td>-0.014662</td>\n",
       "      <td>0.116444</td>\n",
       "      <td>0.362904</td>\n",
       "      <td>1.000000</td>\n",
       "      <td>-0.007332</td>\n",
       "      <td>0.008577</td>\n",
       "      <td>0.038243</td>\n",
       "      <td>0.030970</td>\n",
       "    </tr>\n",
       "    <tr>\n",
       "      <th>HDF</th>\n",
       "      <td>-0.022215</td>\n",
       "      <td>0.137831</td>\n",
       "      <td>0.056933</td>\n",
       "      <td>-0.169814</td>\n",
       "      <td>0.142610</td>\n",
       "      <td>-0.003572</td>\n",
       "      <td>0.575800</td>\n",
       "      <td>-0.007332</td>\n",
       "      <td>1.000000</td>\n",
       "      <td>0.018443</td>\n",
       "      <td>0.046396</td>\n",
       "      <td>-0.004706</td>\n",
       "    </tr>\n",
       "    <tr>\n",
       "      <th>PWF</th>\n",
       "      <td>-0.023557</td>\n",
       "      <td>0.003470</td>\n",
       "      <td>-0.003355</td>\n",
       "      <td>-0.014475</td>\n",
       "      <td>0.083781</td>\n",
       "      <td>-0.006151</td>\n",
       "      <td>0.522812</td>\n",
       "      <td>0.008577</td>\n",
       "      <td>0.018443</td>\n",
       "      <td>1.000000</td>\n",
       "      <td>0.115836</td>\n",
       "      <td>-0.004273</td>\n",
       "    </tr>\n",
       "    <tr>\n",
       "      <th>OSF</th>\n",
       "      <td>-0.000990</td>\n",
       "      <td>0.001988</td>\n",
       "      <td>0.004554</td>\n",
       "      <td>-0.145916</td>\n",
       "      <td>0.183465</td>\n",
       "      <td>0.156604</td>\n",
       "      <td>0.531083</td>\n",
       "      <td>0.038243</td>\n",
       "      <td>0.046396</td>\n",
       "      <td>0.115836</td>\n",
       "      <td>1.000000</td>\n",
       "      <td>-0.004341</td>\n",
       "    </tr>\n",
       "    <tr>\n",
       "      <th>RNF</th>\n",
       "      <td>-0.005954</td>\n",
       "      <td>0.017688</td>\n",
       "      <td>0.022279</td>\n",
       "      <td>-0.011708</td>\n",
       "      <td>0.016136</td>\n",
       "      <td>0.010614</td>\n",
       "      <td>0.004516</td>\n",
       "      <td>0.030970</td>\n",
       "      <td>-0.004706</td>\n",
       "      <td>-0.004273</td>\n",
       "      <td>-0.004341</td>\n",
       "      <td>1.000000</td>\n",
       "    </tr>\n",
       "  </tbody>\n",
       "</table>\n",
       "</div>"
      ],
      "text/plain": [
       "                              UDI  Air temperature [K]  \\\n",
       "UDI                      1.000000             0.117428   \n",
       "Air temperature [K]      0.117428             1.000000   \n",
       "Process temperature [K]  0.324428             0.876107   \n",
       "Rotational speed [rpm]  -0.001266             0.018303   \n",
       "Torque [Nm]              0.003207            -0.013778   \n",
       "Tool wear [min]         -0.010794             0.013595   \n",
       "Machine failure         -0.022892             0.082556   \n",
       "TWF                      0.009154             0.009955   \n",
       "HDF                     -0.022215             0.137831   \n",
       "PWF                     -0.023557             0.003470   \n",
       "OSF                     -0.000990             0.001988   \n",
       "RNF                     -0.005954             0.017688   \n",
       "\n",
       "                         Process temperature [K]  Rotational speed [rpm]  \\\n",
       "UDI                                     0.324428               -0.001266   \n",
       "Air temperature [K]                     0.876107                0.018303   \n",
       "Process temperature [K]                 1.000000                0.018863   \n",
       "Rotational speed [rpm]                  0.018863                1.000000   \n",
       "Torque [Nm]                            -0.014061               -0.917809   \n",
       "Tool wear [min]                         0.013027                0.001387   \n",
       "Machine failure                         0.035946               -0.162414   \n",
       "TWF                                     0.007315                0.008995   \n",
       "HDF                                     0.056933               -0.169814   \n",
       "PWF                                    -0.003355               -0.014475   \n",
       "OSF                                     0.004554               -0.145916   \n",
       "RNF                                     0.022279               -0.011708   \n",
       "\n",
       "                         Torque [Nm]  Tool wear [min]  Machine failure  \\\n",
       "UDI                         0.003207        -0.010794        -0.022892   \n",
       "Air temperature [K]        -0.013778         0.013595         0.082556   \n",
       "Process temperature [K]    -0.014061         0.013027         0.035946   \n",
       "Rotational speed [rpm]     -0.917809         0.001387        -0.162414   \n",
       "Torque [Nm]                 1.000000        -0.001729         0.191321   \n",
       "Tool wear [min]            -0.001729         1.000000         0.106309   \n",
       "Machine failure             0.191321         0.106309         1.000000   \n",
       "TWF                        -0.014662         0.116444         0.362904   \n",
       "HDF                         0.142610        -0.003572         0.575800   \n",
       "PWF                         0.083781        -0.006151         0.522812   \n",
       "OSF                         0.183465         0.156604         0.531083   \n",
       "RNF                         0.016136         0.010614         0.004516   \n",
       "\n",
       "                              TWF       HDF       PWF       OSF       RNF  \n",
       "UDI                      0.009154 -0.022215 -0.023557 -0.000990 -0.005954  \n",
       "Air temperature [K]      0.009955  0.137831  0.003470  0.001988  0.017688  \n",
       "Process temperature [K]  0.007315  0.056933 -0.003355  0.004554  0.022279  \n",
       "Rotational speed [rpm]   0.008995 -0.169814 -0.014475 -0.145916 -0.011708  \n",
       "Torque [Nm]             -0.014662  0.142610  0.083781  0.183465  0.016136  \n",
       "Tool wear [min]          0.116444 -0.003572 -0.006151  0.156604  0.010614  \n",
       "Machine failure          0.362904  0.575800  0.522812  0.531083  0.004516  \n",
       "TWF                      1.000000 -0.007332  0.008577  0.038243  0.030970  \n",
       "HDF                     -0.007332  1.000000  0.018443  0.046396 -0.004706  \n",
       "PWF                      0.008577  0.018443  1.000000  0.115836 -0.004273  \n",
       "OSF                      0.038243  0.046396  0.115836  1.000000 -0.004341  \n",
       "RNF                      0.030970 -0.004706 -0.004273 -0.004341  1.000000  "
      ]
     },
     "execution_count": 159,
     "metadata": {},
     "output_type": "execute_result"
    }
   ],
   "source": [
    "df.corr()"
   ]
  },
  {
   "cell_type": "markdown",
   "id": "resistant-survivor",
   "metadata": {},
   "source": [
    "# Correlation-\n",
    "\n",
    "### Dependent variable Air Temperature is having +ve high correlation with Process Temperature whereas very less correlation with other independent varibales.\n",
    "### Machine Failure is having multi-colenearity between HDF,PWF and OSF"
   ]
  },
  {
   "cell_type": "markdown",
   "id": "blessed-poster",
   "metadata": {},
   "source": [
    "# Let us do  some analysis through stats models"
   ]
  },
  {
   "cell_type": "code",
   "execution_count": 184,
   "id": "signed-albany",
   "metadata": {},
   "outputs": [],
   "source": [
    "df1=df.rename({'Air temperature [K]':'Air_temp','Process temperature [K]':'process_temp',\n",
    "               'Rotational speed [rpm]':'Rotaional_speed','Torque [Nm]':'Torque','Tool wear [min]':'Tool_wear','Machine failure':'Machine_failure'},axis=1)"
   ]
  },
  {
   "cell_type": "code",
   "execution_count": 185,
   "id": "framed-greensboro",
   "metadata": {},
   "outputs": [
    {
     "data": {
      "text/html": [
       "<div>\n",
       "<style scoped>\n",
       "    .dataframe tbody tr th:only-of-type {\n",
       "        vertical-align: middle;\n",
       "    }\n",
       "\n",
       "    .dataframe tbody tr th {\n",
       "        vertical-align: top;\n",
       "    }\n",
       "\n",
       "    .dataframe thead th {\n",
       "        text-align: right;\n",
       "    }\n",
       "</style>\n",
       "<table border=\"1\" class=\"dataframe\">\n",
       "  <thead>\n",
       "    <tr style=\"text-align: right;\">\n",
       "      <th></th>\n",
       "      <th>UDI</th>\n",
       "      <th>Product ID</th>\n",
       "      <th>Type</th>\n",
       "      <th>Air_temp</th>\n",
       "      <th>process_temp</th>\n",
       "      <th>Rotaional_speed</th>\n",
       "      <th>Torque</th>\n",
       "      <th>Tool_wear</th>\n",
       "      <th>Machine_failure</th>\n",
       "      <th>TWF</th>\n",
       "      <th>HDF</th>\n",
       "      <th>PWF</th>\n",
       "      <th>OSF</th>\n",
       "      <th>RNF</th>\n",
       "    </tr>\n",
       "  </thead>\n",
       "  <tbody>\n",
       "    <tr>\n",
       "      <th>0</th>\n",
       "      <td>1</td>\n",
       "      <td>M14860</td>\n",
       "      <td>M</td>\n",
       "      <td>298.1</td>\n",
       "      <td>308.6</td>\n",
       "      <td>0.316214</td>\n",
       "      <td>42.8</td>\n",
       "      <td>109.262146</td>\n",
       "      <td>0</td>\n",
       "      <td>0</td>\n",
       "      <td>0</td>\n",
       "      <td>0</td>\n",
       "      <td>0</td>\n",
       "      <td>0</td>\n",
       "    </tr>\n",
       "    <tr>\n",
       "      <th>1</th>\n",
       "      <td>2</td>\n",
       "      <td>L47181</td>\n",
       "      <td>L</td>\n",
       "      <td>298.2</td>\n",
       "      <td>308.7</td>\n",
       "      <td>0.316214</td>\n",
       "      <td>46.3</td>\n",
       "      <td>3.000000</td>\n",
       "      <td>0</td>\n",
       "      <td>0</td>\n",
       "      <td>0</td>\n",
       "      <td>0</td>\n",
       "      <td>0</td>\n",
       "      <td>0</td>\n",
       "    </tr>\n",
       "    <tr>\n",
       "      <th>2</th>\n",
       "      <td>3</td>\n",
       "      <td>L47182</td>\n",
       "      <td>L</td>\n",
       "      <td>298.1</td>\n",
       "      <td>308.5</td>\n",
       "      <td>0.316214</td>\n",
       "      <td>49.4</td>\n",
       "      <td>5.000000</td>\n",
       "      <td>0</td>\n",
       "      <td>0</td>\n",
       "      <td>0</td>\n",
       "      <td>0</td>\n",
       "      <td>0</td>\n",
       "      <td>0</td>\n",
       "    </tr>\n",
       "    <tr>\n",
       "      <th>3</th>\n",
       "      <td>4</td>\n",
       "      <td>L47183</td>\n",
       "      <td>L</td>\n",
       "      <td>298.2</td>\n",
       "      <td>308.6</td>\n",
       "      <td>0.316214</td>\n",
       "      <td>39.5</td>\n",
       "      <td>7.000000</td>\n",
       "      <td>0</td>\n",
       "      <td>0</td>\n",
       "      <td>0</td>\n",
       "      <td>0</td>\n",
       "      <td>0</td>\n",
       "      <td>0</td>\n",
       "    </tr>\n",
       "    <tr>\n",
       "      <th>4</th>\n",
       "      <td>5</td>\n",
       "      <td>L47184</td>\n",
       "      <td>L</td>\n",
       "      <td>298.2</td>\n",
       "      <td>308.7</td>\n",
       "      <td>0.316214</td>\n",
       "      <td>40.0</td>\n",
       "      <td>9.000000</td>\n",
       "      <td>0</td>\n",
       "      <td>0</td>\n",
       "      <td>0</td>\n",
       "      <td>0</td>\n",
       "      <td>0</td>\n",
       "      <td>0</td>\n",
       "    </tr>\n",
       "  </tbody>\n",
       "</table>\n",
       "</div>"
      ],
      "text/plain": [
       "   UDI Product ID Type  Air_temp  process_temp  Rotaional_speed  Torque  \\\n",
       "0    1     M14860    M     298.1         308.6         0.316214    42.8   \n",
       "1    2     L47181    L     298.2         308.7         0.316214    46.3   \n",
       "2    3     L47182    L     298.1         308.5         0.316214    49.4   \n",
       "3    4     L47183    L     298.2         308.6         0.316214    39.5   \n",
       "4    5     L47184    L     298.2         308.7         0.316214    40.0   \n",
       "\n",
       "    Tool_wear  Machine_failure  TWF  HDF  PWF  OSF  RNF  \n",
       "0  109.262146                0    0    0    0    0    0  \n",
       "1    3.000000                0    0    0    0    0    0  \n",
       "2    5.000000                0    0    0    0    0    0  \n",
       "3    7.000000                0    0    0    0    0    0  \n",
       "4    9.000000                0    0    0    0    0    0  "
      ]
     },
     "execution_count": 185,
     "metadata": {},
     "output_type": "execute_result"
    }
   ],
   "source": [
    "df1.head()"
   ]
  },
  {
   "cell_type": "code",
   "execution_count": 180,
   "id": "polished-speech",
   "metadata": {},
   "outputs": [],
   "source": [
    "import statsmodels.formula.api as smf\n",
    "# Statistically model of Ordinary least squared approach.\n",
    "def smf_check(col1,col2,data):\n",
    "    lm = smf.ols(formula=f\"{col1}~ {col2}\", data=data).fit()\n",
    "    return lm.summary()"
   ]
  },
  {
   "cell_type": "code",
   "execution_count": 181,
   "id": "cellular-jerusalem",
   "metadata": {},
   "outputs": [
    {
     "data": {
      "text/html": [
       "<table class=\"simpletable\">\n",
       "<caption>OLS Regression Results</caption>\n",
       "<tr>\n",
       "  <th>Dep. Variable:</th>        <td>Air_temp</td>     <th>  R-squared:         </th> <td>   0.768</td> \n",
       "</tr>\n",
       "<tr>\n",
       "  <th>Model:</th>                   <td>OLS</td>       <th>  Adj. R-squared:    </th> <td>   0.768</td> \n",
       "</tr>\n",
       "<tr>\n",
       "  <th>Method:</th>             <td>Least Squares</td>  <th>  F-statistic:       </th> <td>3.302e+04</td>\n",
       "</tr>\n",
       "<tr>\n",
       "  <th>Date:</th>             <td>Wed, 01 Sep 2021</td> <th>  Prob (F-statistic):</th>  <td>  0.00</td>  \n",
       "</tr>\n",
       "<tr>\n",
       "  <th>Time:</th>                 <td>22:00:11</td>     <th>  Log-Likelihood:    </th> <td> -13826.</td> \n",
       "</tr>\n",
       "<tr>\n",
       "  <th>No. Observations:</th>      <td> 10000</td>      <th>  AIC:               </th> <td>2.766e+04</td>\n",
       "</tr>\n",
       "<tr>\n",
       "  <th>Df Residuals:</th>          <td>  9998</td>      <th>  BIC:               </th> <td>2.767e+04</td>\n",
       "</tr>\n",
       "<tr>\n",
       "  <th>Df Model:</th>              <td>     1</td>      <th>                     </th>     <td> </td>    \n",
       "</tr>\n",
       "<tr>\n",
       "  <th>Covariance Type:</th>      <td>nonrobust</td>    <th>                     </th>     <td> </td>    \n",
       "</tr>\n",
       "</table>\n",
       "<table class=\"simpletable\">\n",
       "<tr>\n",
       "        <td></td>          <th>coef</th>     <th>std err</th>      <th>t</th>      <th>P>|t|</th>  <th>[0.025</th>    <th>0.975]</th>  \n",
       "</tr>\n",
       "<tr>\n",
       "  <th>Intercept</th>    <td>  -66.1432</td> <td>    2.015</td> <td>  -32.824</td> <td> 0.000</td> <td>  -70.093</td> <td>  -62.193</td>\n",
       "</tr>\n",
       "<tr>\n",
       "  <th>process_temp</th> <td>    1.1811</td> <td>    0.007</td> <td>  181.703</td> <td> 0.000</td> <td>    1.168</td> <td>    1.194</td>\n",
       "</tr>\n",
       "</table>\n",
       "<table class=\"simpletable\">\n",
       "<tr>\n",
       "  <th>Omnibus:</th>       <td>670.862</td> <th>  Durbin-Watson:     </th> <td>   0.007</td>\n",
       "</tr>\n",
       "<tr>\n",
       "  <th>Prob(Omnibus):</th> <td> 0.000</td>  <th>  Jarque-Bera (JB):  </th> <td> 243.880</td>\n",
       "</tr>\n",
       "<tr>\n",
       "  <th>Skew:</th>          <td>-0.082</td>  <th>  Prob(JB):          </th> <td>1.10e-53</td>\n",
       "</tr>\n",
       "<tr>\n",
       "  <th>Kurtosis:</th>      <td> 2.253</td>  <th>  Cond. No.          </th> <td>6.48e+04</td>\n",
       "</tr>\n",
       "</table><br/><br/>Notes:<br/>[1] Standard Errors assume that the covariance matrix of the errors is correctly specified.<br/>[2] The condition number is large, 6.48e+04. This might indicate that there are<br/>strong multicollinearity or other numerical problems."
      ],
      "text/plain": [
       "<class 'statsmodels.iolib.summary.Summary'>\n",
       "\"\"\"\n",
       "                            OLS Regression Results                            \n",
       "==============================================================================\n",
       "Dep. Variable:               Air_temp   R-squared:                       0.768\n",
       "Model:                            OLS   Adj. R-squared:                  0.768\n",
       "Method:                 Least Squares   F-statistic:                 3.302e+04\n",
       "Date:                Wed, 01 Sep 2021   Prob (F-statistic):               0.00\n",
       "Time:                        22:00:11   Log-Likelihood:                -13826.\n",
       "No. Observations:               10000   AIC:                         2.766e+04\n",
       "Df Residuals:                    9998   BIC:                         2.767e+04\n",
       "Df Model:                           1                                         \n",
       "Covariance Type:            nonrobust                                         \n",
       "================================================================================\n",
       "                   coef    std err          t      P>|t|      [0.025      0.975]\n",
       "--------------------------------------------------------------------------------\n",
       "Intercept      -66.1432      2.015    -32.824      0.000     -70.093     -62.193\n",
       "process_temp     1.1811      0.007    181.703      0.000       1.168       1.194\n",
       "==============================================================================\n",
       "Omnibus:                      670.862   Durbin-Watson:                   0.007\n",
       "Prob(Omnibus):                  0.000   Jarque-Bera (JB):              243.880\n",
       "Skew:                          -0.082   Prob(JB):                     1.10e-53\n",
       "Kurtosis:                       2.253   Cond. No.                     6.48e+04\n",
       "==============================================================================\n",
       "\n",
       "Notes:\n",
       "[1] Standard Errors assume that the covariance matrix of the errors is correctly specified.\n",
       "[2] The condition number is large, 6.48e+04. This might indicate that there are\n",
       "strong multicollinearity or other numerical problems.\n",
       "\"\"\""
      ]
     },
     "execution_count": 181,
     "metadata": {},
     "output_type": "execute_result"
    }
   ],
   "source": [
    "# If we are going to create a model where Air_temp is the label column and process_temp is independent column\n",
    "smf_check('Air_temp','process_temp',df1)"
   ]
  },
  {
   "cell_type": "code",
   "execution_count": 189,
   "id": "junior-entity",
   "metadata": {},
   "outputs": [
    {
     "data": {
      "text/html": [
       "<table class=\"simpletable\">\n",
       "<caption>OLS Regression Results</caption>\n",
       "<tr>\n",
       "  <th>Dep. Variable:</th>        <td>Air_temp</td>     <th>  R-squared:         </th> <td>   0.019</td> \n",
       "</tr>\n",
       "<tr>\n",
       "  <th>Model:</th>                   <td>OLS</td>       <th>  Adj. R-squared:    </th> <td>   0.019</td> \n",
       "</tr>\n",
       "<tr>\n",
       "  <th>Method:</th>             <td>Least Squares</td>  <th>  F-statistic:       </th> <td>   33.08</td> \n",
       "</tr>\n",
       "<tr>\n",
       "  <th>Date:</th>             <td>Wed, 01 Sep 2021</td> <th>  Prob (F-statistic):</th> <td>1.01e-39</td> \n",
       "</tr>\n",
       "<tr>\n",
       "  <th>Time:</th>                 <td>22:44:13</td>     <th>  Log-Likelihood:    </th> <td> -21023.</td> \n",
       "</tr>\n",
       "<tr>\n",
       "  <th>No. Observations:</th>      <td> 10000</td>      <th>  AIC:               </th> <td>4.206e+04</td>\n",
       "</tr>\n",
       "<tr>\n",
       "  <th>Df Residuals:</th>          <td>  9993</td>      <th>  BIC:               </th> <td>4.211e+04</td>\n",
       "</tr>\n",
       "<tr>\n",
       "  <th>Df Model:</th>              <td>     6</td>      <th>                     </th>     <td> </td>    \n",
       "</tr>\n",
       "<tr>\n",
       "  <th>Covariance Type:</th>      <td>nonrobust</td>    <th>                     </th>     <td> </td>    \n",
       "</tr>\n",
       "</table>\n",
       "<table class=\"simpletable\">\n",
       "<tr>\n",
       "         <td></td>            <th>coef</th>     <th>std err</th>      <th>t</th>      <th>P>|t|</th>  <th>[0.025</th>    <th>0.975]</th>  \n",
       "</tr>\n",
       "<tr>\n",
       "  <th>Intercept</th>       <td>  299.9725</td> <td>    0.020</td> <td> 1.49e+04</td> <td> 0.000</td> <td>  299.933</td> <td>  300.012</td>\n",
       "</tr>\n",
       "<tr>\n",
       "  <th>Machine_failure</th> <td>    0.1175</td> <td>    0.376</td> <td>    0.313</td> <td> 0.755</td> <td>   -0.619</td> <td>    0.854</td>\n",
       "</tr>\n",
       "<tr>\n",
       "  <th>TWF</th>             <td>    0.2041</td> <td>    0.455</td> <td>    0.449</td> <td> 0.654</td> <td>   -0.688</td> <td>    1.096</td>\n",
       "</tr>\n",
       "<tr>\n",
       "  <th>HDF</th>             <td>    2.4829</td> <td>    0.397</td> <td>    6.256</td> <td> 0.000</td> <td>    1.705</td> <td>    3.261</td>\n",
       "</tr>\n",
       "<tr>\n",
       "  <th>PWF</th>             <td>   -0.0701</td> <td>    0.382</td> <td>   -0.184</td> <td> 0.854</td> <td>   -0.819</td> <td>    0.678</td>\n",
       "</tr>\n",
       "<tr>\n",
       "  <th>OSF</th>             <td>   -0.1948</td> <td>    0.365</td> <td>   -0.534</td> <td> 0.594</td> <td>   -0.910</td> <td>    0.520</td>\n",
       "</tr>\n",
       "<tr>\n",
       "  <th>RNF</th>             <td>    0.8264</td> <td>    0.455</td> <td>    1.815</td> <td> 0.069</td> <td>   -0.066</td> <td>    1.719</td>\n",
       "</tr>\n",
       "</table>\n",
       "<table class=\"simpletable\">\n",
       "<tr>\n",
       "  <th>Omnibus:</th>       <td>821.323</td> <th>  Durbin-Watson:     </th> <td>   0.038</td>\n",
       "</tr>\n",
       "<tr>\n",
       "  <th>Prob(Omnibus):</th> <td> 0.000</td>  <th>  Jarque-Bera (JB):  </th> <td> 287.436</td>\n",
       "</tr>\n",
       "<tr>\n",
       "  <th>Skew:</th>          <td> 0.135</td>  <th>  Prob(JB):          </th> <td>3.84e-63</td>\n",
       "</tr>\n",
       "<tr>\n",
       "  <th>Kurtosis:</th>      <td> 2.214</td>  <th>  Cond. No.          </th> <td>    39.7</td>\n",
       "</tr>\n",
       "</table><br/><br/>Notes:<br/>[1] Standard Errors assume that the covariance matrix of the errors is correctly specified."
      ],
      "text/plain": [
       "<class 'statsmodels.iolib.summary.Summary'>\n",
       "\"\"\"\n",
       "                            OLS Regression Results                            \n",
       "==============================================================================\n",
       "Dep. Variable:               Air_temp   R-squared:                       0.019\n",
       "Model:                            OLS   Adj. R-squared:                  0.019\n",
       "Method:                 Least Squares   F-statistic:                     33.08\n",
       "Date:                Wed, 01 Sep 2021   Prob (F-statistic):           1.01e-39\n",
       "Time:                        22:44:13   Log-Likelihood:                -21023.\n",
       "No. Observations:               10000   AIC:                         4.206e+04\n",
       "Df Residuals:                    9993   BIC:                         4.211e+04\n",
       "Df Model:                           6                                         \n",
       "Covariance Type:            nonrobust                                         \n",
       "===================================================================================\n",
       "                      coef    std err          t      P>|t|      [0.025      0.975]\n",
       "-----------------------------------------------------------------------------------\n",
       "Intercept         299.9725      0.020   1.49e+04      0.000     299.933     300.012\n",
       "Machine_failure     0.1175      0.376      0.313      0.755      -0.619       0.854\n",
       "TWF                 0.2041      0.455      0.449      0.654      -0.688       1.096\n",
       "HDF                 2.4829      0.397      6.256      0.000       1.705       3.261\n",
       "PWF                -0.0701      0.382     -0.184      0.854      -0.819       0.678\n",
       "OSF                -0.1948      0.365     -0.534      0.594      -0.910       0.520\n",
       "RNF                 0.8264      0.455      1.815      0.069      -0.066       1.719\n",
       "==============================================================================\n",
       "Omnibus:                      821.323   Durbin-Watson:                   0.038\n",
       "Prob(Omnibus):                  0.000   Jarque-Bera (JB):              287.436\n",
       "Skew:                           0.135   Prob(JB):                     3.84e-63\n",
       "Kurtosis:                       2.214   Cond. No.                         39.7\n",
       "==============================================================================\n",
       "\n",
       "Notes:\n",
       "[1] Standard Errors assume that the covariance matrix of the errors is correctly specified.\n",
       "\"\"\""
      ]
     },
     "execution_count": 189,
     "metadata": {},
     "output_type": "execute_result"
    }
   ],
   "source": [
    "# p-value is high for categorical features like Machine_failure,TWF,PWF& OSF , so not more significance for Air_temp prediction (0.05 or less is good)\n",
    "smf_check('Air_temp','Machine_failure+TWF+HDF+PWF+OSF+RNF',df1)"
   ]
  },
  {
   "cell_type": "markdown",
   "id": "steady-domestic",
   "metadata": {},
   "source": [
    "# Missing Value Analysis\n",
    "### There is no missing NULL values in the datset however there is Zero's in some of attirbutes.\n",
    "### Except Tool wear all there attributes are categorical where zero values are there respresents some mennings\n",
    "### Before handling Zero present in Tool wear , we need to understand what these zeros are represents or it is due to some wrong enties."
   ]
  },
  {
   "cell_type": "code",
   "execution_count": 15,
   "id": "uniform-status",
   "metadata": {},
   "outputs": [
    {
     "data": {
      "text/plain": [
       "UDI                        0\n",
       "Product ID                 0\n",
       "Type                       0\n",
       "Air temperature [K]        0\n",
       "Process temperature [K]    0\n",
       "Rotational speed [rpm]     0\n",
       "Torque [Nm]                0\n",
       "Tool wear [min]            0\n",
       "Machine failure            0\n",
       "TWF                        0\n",
       "HDF                        0\n",
       "PWF                        0\n",
       "OSF                        0\n",
       "RNF                        0\n",
       "dtype: int64"
      ]
     },
     "execution_count": 15,
     "metadata": {},
     "output_type": "execute_result"
    }
   ],
   "source": [
    "df.isnull().sum()"
   ]
  },
  {
   "cell_type": "code",
   "execution_count": 16,
   "id": "expanded-pierre",
   "metadata": {},
   "outputs": [
    {
     "data": {
      "text/plain": [
       "UDI                           0\n",
       "Product ID                    0\n",
       "Type                          0\n",
       "Air temperature [K]           0\n",
       "Process temperature [K]       0\n",
       "Rotational speed [rpm]        0\n",
       "Torque [Nm]                   0\n",
       "Tool wear [min]             120\n",
       "Machine failure            9661\n",
       "TWF                        9954\n",
       "HDF                        9885\n",
       "PWF                        9905\n",
       "OSF                        9902\n",
       "RNF                        9981\n",
       "dtype: int64"
      ]
     },
     "execution_count": 16,
     "metadata": {},
     "output_type": "execute_result"
    }
   ],
   "source": [
    "(df==0).sum()"
   ]
  },
  {
   "cell_type": "markdown",
   "id": "oriented-patch",
   "metadata": {},
   "source": [
    "# Also it has been observevd that the categorical fields are already in numerical form , so no need to further trarnsform them."
   ]
  },
  {
   "cell_type": "code",
   "execution_count": 17,
   "id": "recovered-independence",
   "metadata": {},
   "outputs": [],
   "source": [
    "# lET US REPLACE ZEROS WITH NAN FOR Tool wear [min] column"
   ]
  },
  {
   "cell_type": "code",
   "execution_count": 272,
   "id": "pursuant-cleveland",
   "metadata": {},
   "outputs": [],
   "source": [
    "df['Tool wear [min]']=df['Tool wear [min]'].replace(0,np.nan)"
   ]
  },
  {
   "cell_type": "code",
   "execution_count": 273,
   "id": "advance-logistics",
   "metadata": {},
   "outputs": [
    {
     "data": {
      "text/plain": [
       "UDI                           0\n",
       "Product ID                    0\n",
       "Type                          0\n",
       "Air temperature [K]           0\n",
       "Process temperature [K]       0\n",
       "Rotational speed [rpm]        0\n",
       "Torque [Nm]                   0\n",
       "Tool wear [min]               0\n",
       "Machine failure            9661\n",
       "TWF                        9954\n",
       "HDF                        9885\n",
       "PWF                        9905\n",
       "OSF                        9902\n",
       "RNF                        9981\n",
       "dtype: int64"
      ]
     },
     "execution_count": 273,
     "metadata": {},
     "output_type": "execute_result"
    }
   ],
   "source": [
    "(df==0).sum()"
   ]
  },
  {
   "cell_type": "code",
   "execution_count": 274,
   "id": "smooth-billion",
   "metadata": {},
   "outputs": [
    {
     "data": {
      "text/plain": [
       "109.26214574898785"
      ]
     },
     "execution_count": 274,
     "metadata": {},
     "output_type": "execute_result"
    }
   ],
   "source": [
    "df['Tool wear [min]'].mean()"
   ]
  },
  {
   "cell_type": "code",
   "execution_count": 275,
   "id": "promotional-classification",
   "metadata": {},
   "outputs": [
    {
     "data": {
      "text/plain": [
       "109.0"
      ]
     },
     "execution_count": 275,
     "metadata": {},
     "output_type": "execute_result"
    }
   ],
   "source": [
    "df['Tool wear [min]'].median()"
   ]
  },
  {
   "cell_type": "code",
   "execution_count": 276,
   "id": "frank-sending",
   "metadata": {},
   "outputs": [],
   "source": [
    "mean=df['Tool wear [min]'].mean()\n",
    "df['Tool wear [min]'].fillna(mean,inplace=True)"
   ]
  },
  {
   "cell_type": "code",
   "execution_count": null,
   "id": "stuffed-programmer",
   "metadata": {},
   "outputs": [],
   "source": []
  },
  {
   "cell_type": "code",
   "execution_count": 277,
   "id": "entertaining-bennett",
   "metadata": {},
   "outputs": [
    {
     "data": {
      "text/plain": [
       "1.9931710047137523"
      ]
     },
     "execution_count": 277,
     "metadata": {},
     "output_type": "execute_result"
    }
   ],
   "source": [
    "# Skewness\n",
    "df['Rotational speed [rpm]'].skew()"
   ]
  },
  {
   "cell_type": "code",
   "execution_count": 278,
   "id": "permanent-closing",
   "metadata": {
    "scrolled": true
   },
   "outputs": [
    {
     "data": {
      "text/plain": [
       "<seaborn.axisgrid.FacetGrid at 0x1f233777fd0>"
      ]
     },
     "execution_count": 278,
     "metadata": {},
     "output_type": "execute_result"
    },
    {
     "data": {
      "image/png": "[encoded data removed]",
      "text/plain": [
       "<Figure size 360x360 with 1 Axes>"
      ]
     },
     "metadata": {
      "needs_background": "light"
     },
     "output_type": "display_data"
    }
   ],
   "source": [
    "sns.displot(df['Rotational speed [rpm]'])"
   ]
  },
  {
   "cell_type": "code",
   "execution_count": 279,
   "id": "postal-principle",
   "metadata": {},
   "outputs": [],
   "source": [
    "# Log transformer"
   ]
  },
  {
   "cell_type": "code",
   "execution_count": 280,
   "id": "uniform-interpretation",
   "metadata": {},
   "outputs": [],
   "source": [
    "x_log=np.log(df['Rotational speed [rpm]'])"
   ]
  },
  {
   "cell_type": "code",
   "execution_count": 281,
   "id": "introductory-awareness",
   "metadata": {},
   "outputs": [
    {
     "data": {
      "text/plain": [
       "1.309369616254158"
      ]
     },
     "execution_count": 281,
     "metadata": {},
     "output_type": "execute_result"
    }
   ],
   "source": [
    "x_log.skew()"
   ]
  },
  {
   "cell_type": "code",
   "execution_count": 282,
   "id": "progressive-humor",
   "metadata": {},
   "outputs": [
    {
     "data": {
      "text/plain": [
       "-0.00951659584005855"
      ]
     },
     "execution_count": 282,
     "metadata": {},
     "output_type": "execute_result"
    }
   ],
   "source": [
    "df['Torque [Nm]'].skew()"
   ]
  },
  {
   "cell_type": "code",
   "execution_count": 283,
   "id": "dominant-grade",
   "metadata": {},
   "outputs": [
    {
     "data": {
      "text/plain": [
       "0.027619124531084782"
      ]
     },
     "execution_count": 283,
     "metadata": {},
     "output_type": "execute_result"
    }
   ],
   "source": [
    "df['Tool wear [min]'].skew()"
   ]
  },
  {
   "cell_type": "code",
   "execution_count": 284,
   "id": "vulnerable-tablet",
   "metadata": {},
   "outputs": [],
   "source": [
    "# Square Root transformer"
   ]
  },
  {
   "cell_type": "code",
   "execution_count": 285,
   "id": "unique-petroleum",
   "metadata": {},
   "outputs": [
    {
     "data": {
      "text/plain": [
       "1.6244072136980985"
      ]
     },
     "execution_count": 285,
     "metadata": {},
     "output_type": "execute_result"
    }
   ],
   "source": [
    "x_sqrt=np.sqrt(df['Rotational speed [rpm]'])\n",
    "x_sqrt.skew()"
   ]
  },
  {
   "cell_type": "code",
   "execution_count": 286,
   "id": "extensive-stress",
   "metadata": {},
   "outputs": [],
   "source": [
    "# Box-cox transformer"
   ]
  },
  {
   "cell_type": "code",
   "execution_count": 287,
   "id": "impaired-gazette",
   "metadata": {},
   "outputs": [
    {
     "data": {
      "text/plain": [
       "0"
      ]
     },
     "execution_count": 287,
     "metadata": {},
     "output_type": "execute_result"
    }
   ],
   "source": [
    "from scipy import stats\n",
    "x_boxcox=stats.boxcox(df['Rotational speed [rpm]'])[0]\n",
    "pd.Series(x_boxcox).skew()"
   ]
  },
  {
   "cell_type": "code",
   "execution_count": 288,
   "id": "sharp-resident",
   "metadata": {},
   "outputs": [
    {
     "data": {
      "text/plain": [
       "<seaborn.axisgrid.FacetGrid at 0x1f226336bb0>"
      ]
     },
     "execution_count": 288,
     "metadata": {},
     "output_type": "execute_result"
    },
    {
     "data": {
      "image/png": "[encoded data removed]",
      "text/plain": [
       "<Figure size 360x360 with 1 Axes>"
      ]
     },
     "metadata": {
      "needs_background": "light"
     },
     "output_type": "display_data"
    }
   ],
   "source": [
    "sns.displot(pd.Series(x_boxcox))"
   ]
  },
  {
   "cell_type": "code",
   "execution_count": 289,
   "id": "comparative-festival",
   "metadata": {},
   "outputs": [],
   "source": [
    "# Aplying Boxcox as final transformation for Rotational speed attribute"
   ]
  },
  {
   "cell_type": "code",
   "execution_count": 290,
   "id": "related-adult",
   "metadata": {},
   "outputs": [],
   "source": [
    "df['Rotational speed [rpm]']=pd.Series(x_boxcox)"
   ]
  },
  {
   "cell_type": "code",
   "execution_count": 291,
   "id": "thousand-constitutional",
   "metadata": {},
   "outputs": [
    {
     "data": {
      "text/plain": [
       "0       0.316214\n",
       "1       0.316214\n",
       "2       0.316214\n",
       "3       0.316214\n",
       "4       0.316214\n",
       "          ...   \n",
       "9995    0.316214\n",
       "9996    0.316214\n",
       "9997    0.316214\n",
       "9998    0.316214\n",
       "9999    0.316214\n",
       "Name: Rotational speed [rpm], Length: 10000, dtype: float64"
      ]
     },
     "execution_count": 291,
     "metadata": {},
     "output_type": "execute_result"
    }
   ],
   "source": [
    "df['Rotational speed [rpm]']"
   ]
  },
  {
   "cell_type": "markdown",
   "id": "behind-usage",
   "metadata": {},
   "source": [
    "# Feature Scalling"
   ]
  },
  {
   "cell_type": "markdown",
   "id": "suspended-latest",
   "metadata": {},
   "source": [
    "### ML algorithms not perform well if the inpput numerical attributes are not in one scale or they are in different scales.\n",
    "### In our dataset we have observed that , total number of romms ranges from 6 to 39k while income ranges from 0 to 15\n",
    "### Scaling of target value is not required.\n",
    "\n",
    "#### There are two type of scalling:\n",
    "                * a. MinMaxScaler (rescaled all values and normalized between o and 1)\n",
    "                * b. Standardization\n",
    "    . MinMaxScaler: subtracting the min value and dividing by the max minus min.( give value between o and 1)\n",
    "    . Standardization: first it subtracts the mean value and then divies by standard deviation so the distribution \n",
    "    has unit variance and will always have zero mean.\n",
    "        "
   ]
  },
  {
   "cell_type": "code",
   "execution_count": 292,
   "id": "ranking-campbell",
   "metadata": {},
   "outputs": [
    {
     "data": {
      "text/plain": [
       "Index(['UDI', 'Product ID', 'Type', 'Air temperature [K]',\n",
       "       'Process temperature [K]', 'Rotational speed [rpm]', 'Torque [Nm]',\n",
       "       'Tool wear [min]', 'Machine failure', 'TWF', 'HDF', 'PWF', 'OSF',\n",
       "       'RNF'],\n",
       "      dtype='object')"
      ]
     },
     "execution_count": 292,
     "metadata": {},
     "output_type": "execute_result"
    }
   ],
   "source": [
    "df_origin.columns"
   ]
  },
  {
   "cell_type": "code",
   "execution_count": 293,
   "id": "extra-process",
   "metadata": {},
   "outputs": [
    {
     "data": {
      "text/html": [
       "<div>\n",
       "<style scoped>\n",
       "    .dataframe tbody tr th:only-of-type {\n",
       "        vertical-align: middle;\n",
       "    }\n",
       "\n",
       "    .dataframe tbody tr th {\n",
       "        vertical-align: top;\n",
       "    }\n",
       "\n",
       "    .dataframe thead th {\n",
       "        text-align: right;\n",
       "    }\n",
       "</style>\n",
       "<table border=\"1\" class=\"dataframe\">\n",
       "  <thead>\n",
       "    <tr style=\"text-align: right;\">\n",
       "      <th></th>\n",
       "      <th>UDI</th>\n",
       "      <th>Product ID</th>\n",
       "      <th>Type</th>\n",
       "      <th>Air temperature [K]</th>\n",
       "      <th>Process temperature [K]</th>\n",
       "      <th>Rotational speed [rpm]</th>\n",
       "      <th>Torque [Nm]</th>\n",
       "      <th>Tool wear [min]</th>\n",
       "      <th>Machine failure</th>\n",
       "      <th>TWF</th>\n",
       "      <th>HDF</th>\n",
       "      <th>PWF</th>\n",
       "      <th>OSF</th>\n",
       "      <th>RNF</th>\n",
       "    </tr>\n",
       "  </thead>\n",
       "  <tbody>\n",
       "    <tr>\n",
       "      <th>0</th>\n",
       "      <td>1</td>\n",
       "      <td>M14860</td>\n",
       "      <td>M</td>\n",
       "      <td>298.1</td>\n",
       "      <td>308.6</td>\n",
       "      <td>1551</td>\n",
       "      <td>42.8</td>\n",
       "      <td>0</td>\n",
       "      <td>0</td>\n",
       "      <td>0</td>\n",
       "      <td>0</td>\n",
       "      <td>0</td>\n",
       "      <td>0</td>\n",
       "      <td>0</td>\n",
       "    </tr>\n",
       "    <tr>\n",
       "      <th>1</th>\n",
       "      <td>2</td>\n",
       "      <td>L47181</td>\n",
       "      <td>L</td>\n",
       "      <td>298.2</td>\n",
       "      <td>308.7</td>\n",
       "      <td>1408</td>\n",
       "      <td>46.3</td>\n",
       "      <td>3</td>\n",
       "      <td>0</td>\n",
       "      <td>0</td>\n",
       "      <td>0</td>\n",
       "      <td>0</td>\n",
       "      <td>0</td>\n",
       "      <td>0</td>\n",
       "    </tr>\n",
       "    <tr>\n",
       "      <th>2</th>\n",
       "      <td>3</td>\n",
       "      <td>L47182</td>\n",
       "      <td>L</td>\n",
       "      <td>298.1</td>\n",
       "      <td>308.5</td>\n",
       "      <td>1498</td>\n",
       "      <td>49.4</td>\n",
       "      <td>5</td>\n",
       "      <td>0</td>\n",
       "      <td>0</td>\n",
       "      <td>0</td>\n",
       "      <td>0</td>\n",
       "      <td>0</td>\n",
       "      <td>0</td>\n",
       "    </tr>\n",
       "    <tr>\n",
       "      <th>3</th>\n",
       "      <td>4</td>\n",
       "      <td>L47183</td>\n",
       "      <td>L</td>\n",
       "      <td>298.2</td>\n",
       "      <td>308.6</td>\n",
       "      <td>1433</td>\n",
       "      <td>39.5</td>\n",
       "      <td>7</td>\n",
       "      <td>0</td>\n",
       "      <td>0</td>\n",
       "      <td>0</td>\n",
       "      <td>0</td>\n",
       "      <td>0</td>\n",
       "      <td>0</td>\n",
       "    </tr>\n",
       "    <tr>\n",
       "      <th>4</th>\n",
       "      <td>5</td>\n",
       "      <td>L47184</td>\n",
       "      <td>L</td>\n",
       "      <td>298.2</td>\n",
       "      <td>308.7</td>\n",
       "      <td>1408</td>\n",
       "      <td>40.0</td>\n",
       "      <td>9</td>\n",
       "      <td>0</td>\n",
       "      <td>0</td>\n",
       "      <td>0</td>\n",
       "      <td>0</td>\n",
       "      <td>0</td>\n",
       "      <td>0</td>\n",
       "    </tr>\n",
       "  </tbody>\n",
       "</table>\n",
       "</div>"
      ],
      "text/plain": [
       "   UDI Product ID Type  Air temperature [K]  Process temperature [K]  \\\n",
       "0    1     M14860    M                298.1                    308.6   \n",
       "1    2     L47181    L                298.2                    308.7   \n",
       "2    3     L47182    L                298.1                    308.5   \n",
       "3    4     L47183    L                298.2                    308.6   \n",
       "4    5     L47184    L                298.2                    308.7   \n",
       "\n",
       "   Rotational speed [rpm]  Torque [Nm]  Tool wear [min]  Machine failure  TWF  \\\n",
       "0                    1551         42.8                0                0    0   \n",
       "1                    1408         46.3                3                0    0   \n",
       "2                    1498         49.4                5                0    0   \n",
       "3                    1433         39.5                7                0    0   \n",
       "4                    1408         40.0                9                0    0   \n",
       "\n",
       "   HDF  PWF  OSF  RNF  \n",
       "0    0    0    0    0  \n",
       "1    0    0    0    0  \n",
       "2    0    0    0    0  \n",
       "3    0    0    0    0  \n",
       "4    0    0    0    0  "
      ]
     },
     "execution_count": 293,
     "metadata": {},
     "output_type": "execute_result"
    }
   ],
   "source": [
    "df_origin.head()"
   ]
  },
  {
   "cell_type": "code",
   "execution_count": 294,
   "id": "cloudy-capital",
   "metadata": {},
   "outputs": [
    {
     "data": {
      "text/plain": [
       "array(['M', 'L', 'H'], dtype=object)"
      ]
     },
     "execution_count": 294,
     "metadata": {},
     "output_type": "execute_result"
    }
   ],
   "source": [
    "df_origin.Type.unique()"
   ]
  },
  {
   "cell_type": "code",
   "execution_count": 295,
   "id": "scenic-illustration",
   "metadata": {},
   "outputs": [
    {
     "data": {
      "text/plain": [
       "(10000, 14)"
      ]
     },
     "execution_count": 295,
     "metadata": {},
     "output_type": "execute_result"
    }
   ],
   "source": [
    "df_origin.shape"
   ]
  },
  {
   "cell_type": "code",
   "execution_count": null,
   "id": "surprised-warrior",
   "metadata": {},
   "outputs": [],
   "source": []
  },
  {
   "cell_type": "code",
   "execution_count": null,
   "id": "liable-pierre",
   "metadata": {},
   "outputs": [],
   "source": []
  },
  {
   "cell_type": "code",
   "execution_count": 296,
   "id": "noble-reynolds",
   "metadata": {},
   "outputs": [
    {
     "data": {
      "text/html": [
       "<div>\n",
       "<style scoped>\n",
       "    .dataframe tbody tr th:only-of-type {\n",
       "        vertical-align: middle;\n",
       "    }\n",
       "\n",
       "    .dataframe tbody tr th {\n",
       "        vertical-align: top;\n",
       "    }\n",
       "\n",
       "    .dataframe thead th {\n",
       "        text-align: right;\n",
       "    }\n",
       "</style>\n",
       "<table border=\"1\" class=\"dataframe\">\n",
       "  <thead>\n",
       "    <tr style=\"text-align: right;\">\n",
       "      <th></th>\n",
       "      <th>Process temperature [K]</th>\n",
       "      <th>Rotational speed [rpm]</th>\n",
       "      <th>Torque [Nm]</th>\n",
       "      <th>Tool wear [min]</th>\n",
       "      <th>Type1</th>\n",
       "      <th>Type2</th>\n",
       "      <th>Type3</th>\n",
       "      <th>TWF</th>\n",
       "      <th>HDF</th>\n",
       "      <th>PWF</th>\n",
       "      <th>OSF</th>\n",
       "      <th>RNF</th>\n",
       "    </tr>\n",
       "  </thead>\n",
       "  <tbody>\n",
       "    <tr>\n",
       "      <th>0</th>\n",
       "      <td>-1.401826</td>\n",
       "      <td>-1.224745</td>\n",
       "      <td>1.414214</td>\n",
       "      <td>-1.224745</td>\n",
       "      <td>0.0</td>\n",
       "      <td>1.0</td>\n",
       "      <td>0.0</td>\n",
       "      <td>0</td>\n",
       "      <td>0</td>\n",
       "      <td>0</td>\n",
       "      <td>0</td>\n",
       "      <td>0</td>\n",
       "    </tr>\n",
       "    <tr>\n",
       "      <th>1</th>\n",
       "      <td>0.862662</td>\n",
       "      <td>1.224745</td>\n",
       "      <td>-0.707107</td>\n",
       "      <td>1.224745</td>\n",
       "      <td>0.0</td>\n",
       "      <td>0.0</td>\n",
       "      <td>1.0</td>\n",
       "      <td>1</td>\n",
       "      <td>0</td>\n",
       "      <td>1</td>\n",
       "      <td>1</td>\n",
       "      <td>0</td>\n",
       "    </tr>\n",
       "    <tr>\n",
       "      <th>2</th>\n",
       "      <td>0.539164</td>\n",
       "      <td>0.000000</td>\n",
       "      <td>-0.707107</td>\n",
       "      <td>0.000000</td>\n",
       "      <td>1.0</td>\n",
       "      <td>0.0</td>\n",
       "      <td>0.0</td>\n",
       "      <td>1</td>\n",
       "      <td>1</td>\n",
       "      <td>1</td>\n",
       "      <td>1</td>\n",
       "      <td>1</td>\n",
       "    </tr>\n",
       "  </tbody>\n",
       "</table>\n",
       "</div>"
      ],
      "text/plain": [
       "   Process temperature [K]  Rotational speed [rpm]  Torque [Nm]  \\\n",
       "0                -1.401826               -1.224745     1.414214   \n",
       "1                 0.862662                1.224745    -0.707107   \n",
       "2                 0.539164                0.000000    -0.707107   \n",
       "\n",
       "   Tool wear [min]  Type1  Type2  Type3  TWF  HDF  PWF  OSF  RNF  \n",
       "0        -1.224745    0.0    1.0    0.0    0    0    0    0    0  \n",
       "1         1.224745    0.0    0.0    1.0    1    0    1    1    0  \n",
       "2         0.000000    1.0    0.0    0.0    1    1    1    1    1  "
      ]
     },
     "execution_count": 296,
     "metadata": {},
     "output_type": "execute_result"
    }
   ],
   "source": [
    "x"
   ]
  },
  {
   "cell_type": "code",
   "execution_count": null,
   "id": "swiss-paste",
   "metadata": {},
   "outputs": [],
   "source": []
  },
  {
   "cell_type": "code",
   "execution_count": 297,
   "id": "corporate-packet",
   "metadata": {},
   "outputs": [
    {
     "data": {
      "text/plain": [
       "(3, 12)"
      ]
     },
     "execution_count": 297,
     "metadata": {},
     "output_type": "execute_result"
    }
   ],
   "source": [
    "x.shape"
   ]
  },
  {
   "cell_type": "markdown",
   "id": "ignored-schema",
   "metadata": {},
   "source": [
    "# Seprating out dependent and indepedent features"
   ]
  },
  {
   "cell_type": "code",
   "execution_count": 298,
   "id": "valuable-clearing",
   "metadata": {},
   "outputs": [],
   "source": [
    "x=df_origin.drop(['Air temperature [K]','UDI','Product ID'],axis=1)"
   ]
  },
  {
   "cell_type": "code",
   "execution_count": 299,
   "id": "known-registration",
   "metadata": {},
   "outputs": [],
   "source": [
    "y=df_origin['Air temperature [K]']"
   ]
  },
  {
   "cell_type": "markdown",
   "id": "fixed-mathematics",
   "metadata": {},
   "source": [
    "#  Selecting Numerical Columns"
   ]
  },
  {
   "cell_type": "code",
   "execution_count": 300,
   "id": "delayed-recruitment",
   "metadata": {},
   "outputs": [
    {
     "data": {
      "text/plain": [
       "Type                        object\n",
       "Process temperature [K]    float64\n",
       "Rotational speed [rpm]       int64\n",
       "Torque [Nm]                float64\n",
       "Tool wear [min]              int64\n",
       "Machine failure              int64\n",
       "TWF                          int64\n",
       "HDF                          int64\n",
       "PWF                          int64\n",
       "OSF                          int64\n",
       "RNF                          int64\n",
       "dtype: object"
      ]
     },
     "execution_count": 300,
     "metadata": {},
     "output_type": "execute_result"
    }
   ],
   "source": [
    "x.dtypes"
   ]
  },
  {
   "cell_type": "code",
   "execution_count": 301,
   "id": "parental-device",
   "metadata": {},
   "outputs": [],
   "source": [
    "x_num=x[['Process temperature [K]','Rotational speed [rpm]','Torque [Nm]','Tool wear [min]']]\n",
    "x_cat_notransform=x[['Machine failure','TWF','HDF','PWF','OSF','RNF']]\n",
    "x_cat_transform=x[['Type']]\n",
    "\n",
    "num_attributes=list(x_num)\n",
    "cat_attribute_trans=list(x_cat_transform)\n",
    "cat_attribute_notrans=list(x_cat_notransform)"
   ]
  },
  {
   "cell_type": "code",
   "execution_count": 302,
   "id": "another-stick",
   "metadata": {},
   "outputs": [],
   "source": [
    "from sklearn.pipeline import Pipeline\n",
    "from sklearn.preprocessing import StandardScaler\n",
    "from sklearn.impute import SimpleImputer\n",
    "\n",
    "num_pipeline=Pipeline([\n",
    "    ('imputer',SimpleImputer(strategy='median')),\n",
    "    ('std_scaller',StandardScaler()),\n",
    "])"
   ]
  },
  {
   "cell_type": "code",
   "execution_count": 303,
   "id": "apparent-parliament",
   "metadata": {},
   "outputs": [
    {
     "data": {
      "text/plain": [
       "Process temperature [K]      0\n",
       "Rotational speed [rpm]       0\n",
       "Torque [Nm]                  0\n",
       "Tool wear [min]            120\n",
       "dtype: int64"
      ]
     },
     "execution_count": 303,
     "metadata": {},
     "output_type": "execute_result"
    }
   ],
   "source": [
    "(x_num==0).sum()"
   ]
  },
  {
   "cell_type": "code",
   "execution_count": 304,
   "id": "north-equilibrium",
   "metadata": {},
   "outputs": [
    {
     "name": "stderr",
     "output_type": "stream",
     "text": [
      "<ipython-input-304-3cf0689d2903>:1: SettingWithCopyWarning: \n",
      "A value is trying to be set on a copy of a slice from a DataFrame.\n",
      "Try using .loc[row_indexer,col_indexer] = value instead\n",
      "\n",
      "See the caveats in the documentation: https://pandas.pydata.org/pandas-docs/stable/user_guide/indexing.html#returning-a-view-versus-a-copy\n",
      "  x_num['Tool wear [min]']=x_num['Tool wear [min]'].replace(0.,np.nan)\n"
     ]
    }
   ],
   "source": [
    "x_num['Tool wear [min]']=x_num['Tool wear [min]'].replace(0.,np.nan)"
   ]
  },
  {
   "cell_type": "code",
   "execution_count": 305,
   "id": "preceding-consideration",
   "metadata": {},
   "outputs": [
    {
     "data": {
      "text/plain": [
       "Process temperature [K]    0\n",
       "Rotational speed [rpm]     0\n",
       "Torque [Nm]                0\n",
       "Tool wear [min]            0\n",
       "dtype: int64"
      ]
     },
     "execution_count": 305,
     "metadata": {},
     "output_type": "execute_result"
    }
   ],
   "source": [
    "(x_num==0).sum()"
   ]
  },
  {
   "cell_type": "code",
   "execution_count": 306,
   "id": "exclusive-victim",
   "metadata": {},
   "outputs": [
    {
     "data": {
      "text/plain": [
       "Process temperature [K]      0\n",
       "Rotational speed [rpm]       0\n",
       "Torque [Nm]                  0\n",
       "Tool wear [min]            120\n",
       "dtype: int64"
      ]
     },
     "execution_count": 306,
     "metadata": {},
     "output_type": "execute_result"
    }
   ],
   "source": [
    "x_num.isnull().sum()"
   ]
  },
  {
   "cell_type": "code",
   "execution_count": 307,
   "id": "incorporate-statement",
   "metadata": {},
   "outputs": [
    {
     "data": {
      "text/plain": [
       "pandas.core.frame.DataFrame"
      ]
     },
     "execution_count": 307,
     "metadata": {},
     "output_type": "execute_result"
    }
   ],
   "source": [
    "type(x_num)"
   ]
  },
  {
   "cell_type": "code",
   "execution_count": 308,
   "id": "lined-prospect",
   "metadata": {},
   "outputs": [],
   "source": [
    "#x_num['Tool wear [min]']=x_num['Tool wear [min]'].replace(0.,np.nan)\n",
    "x_num_transform=num_pipeline.fit_transform(x_num)"
   ]
  },
  {
   "cell_type": "code",
   "execution_count": 309,
   "id": "japanese-change",
   "metadata": {},
   "outputs": [],
   "source": [
    "#numerics=['int16','int32','int64','float16','float32','float64']\n",
    "#x_num=x.select_dtypes(include=numerics)"
   ]
  },
  {
   "cell_type": "code",
   "execution_count": 310,
   "id": "artistic-pakistan",
   "metadata": {},
   "outputs": [
    {
     "data": {
      "text/plain": [
       "array([[ 308.6, 1551. ,   42.8,    nan],\n",
       "       [ 308.7, 1408. ,   46.3,    3. ],\n",
       "       [ 308.5, 1498. ,   49.4,    5. ],\n",
       "       ...,\n",
       "       [ 308.6, 1645. ,   33.4,   22. ],\n",
       "       [ 308.7, 1408. ,   48.5,   25. ],\n",
       "       [ 308.7, 1500. ,   40.2,   30. ]])"
      ]
     },
     "execution_count": 310,
     "metadata": {},
     "output_type": "execute_result"
    }
   ],
   "source": [
    "x_num.values"
   ]
  },
  {
   "cell_type": "code",
   "execution_count": 311,
   "id": "occupational-league",
   "metadata": {},
   "outputs": [],
   "source": [
    "# Visualizing the normalized data"
   ]
  },
  {
   "cell_type": "code",
   "execution_count": 312,
   "id": "sacred-appendix",
   "metadata": {},
   "outputs": [],
   "source": [
    "x_num_trs_df=pd.DataFrame(x_num_transform)"
   ]
  },
  {
   "cell_type": "code",
   "execution_count": 313,
   "id": "vital-growth",
   "metadata": {
    "scrolled": true
   },
   "outputs": [
    {
     "data": {
      "image/png": "[encoded data removed]",
      "text/plain": [
       "<Figure size 1440x1080 with 4 Axes>"
      ]
     },
     "metadata": {
      "needs_background": "light"
     },
     "output_type": "display_data"
    }
   ],
   "source": [
    "x_num_trs_df.hist(bins=60,figsize=(20,15))\n",
    "plt.show()"
   ]
  },
  {
   "cell_type": "markdown",
   "id": "electric-findings",
   "metadata": {},
   "source": [
    "# Creating a full pipeline"
   ]
  },
  {
   "cell_type": "code",
   "execution_count": 314,
   "id": "blocked-backup",
   "metadata": {},
   "outputs": [],
   "source": [
    "from sklearn.compose import ColumnTransformer\n",
    "from sklearn.preprocessing import OneHotEncoder\n",
    "num_attributes=list(x_num)\n",
    "cat_attribute_trans=list(x_cat_transform)\n",
    "cat_attribute_notrans=list(x_cat_notransform)"
   ]
  },
  {
   "cell_type": "code",
   "execution_count": 315,
   "id": "tired-shaft",
   "metadata": {},
   "outputs": [
    {
     "data": {
      "text/plain": [
       "['Process temperature [K]',\n",
       " 'Rotational speed [rpm]',\n",
       " 'Torque [Nm]',\n",
       " 'Tool wear [min]']"
      ]
     },
     "execution_count": 315,
     "metadata": {},
     "output_type": "execute_result"
    }
   ],
   "source": [
    "num_attributes"
   ]
  },
  {
   "cell_type": "code",
   "execution_count": 316,
   "id": "ecological-waterproof",
   "metadata": {},
   "outputs": [],
   "source": [
    "full_pipeline=ColumnTransformer([\n",
    "    (\"num\",num_pipeline,num_attributes),\n",
    "    (\"cat\",OneHotEncoder(),cat_attribute_trans),\n",
    "])"
   ]
  },
  {
   "cell_type": "code",
   "execution_count": 317,
   "id": "advanced-mustang",
   "metadata": {},
   "outputs": [],
   "source": [
    "x_prepared=full_pipeline.fit_transform(x)"
   ]
  },
  {
   "cell_type": "code",
   "execution_count": 318,
   "id": "unlike-verse",
   "metadata": {},
   "outputs": [],
   "source": [
    "x_prepared_df=pd.DataFrame(x_prepared,columns=['Process temperature [K]','Rotational speed [rpm]','Torque [Nm]','Tool wear [min]','Type1','Type2','Type3'])"
   ]
  },
  {
   "cell_type": "code",
   "execution_count": 319,
   "id": "western-hearing",
   "metadata": {},
   "outputs": [
    {
     "data": {
      "text/html": [
       "<div>\n",
       "<style scoped>\n",
       "    .dataframe tbody tr th:only-of-type {\n",
       "        vertical-align: middle;\n",
       "    }\n",
       "\n",
       "    .dataframe tbody tr th {\n",
       "        vertical-align: top;\n",
       "    }\n",
       "\n",
       "    .dataframe thead th {\n",
       "        text-align: right;\n",
       "    }\n",
       "</style>\n",
       "<table border=\"1\" class=\"dataframe\">\n",
       "  <thead>\n",
       "    <tr style=\"text-align: right;\">\n",
       "      <th></th>\n",
       "      <th>Process temperature [K]</th>\n",
       "      <th>Rotational speed [rpm]</th>\n",
       "      <th>Torque [Nm]</th>\n",
       "      <th>Tool wear [min]</th>\n",
       "      <th>Type1</th>\n",
       "      <th>Type2</th>\n",
       "      <th>Type3</th>\n",
       "    </tr>\n",
       "  </thead>\n",
       "  <tbody>\n",
       "    <tr>\n",
       "      <th>0</th>\n",
       "      <td>-0.947360</td>\n",
       "      <td>0.068185</td>\n",
       "      <td>0.282200</td>\n",
       "      <td>-1.695984</td>\n",
       "      <td>0.0</td>\n",
       "      <td>0.0</td>\n",
       "      <td>1.0</td>\n",
       "    </tr>\n",
       "    <tr>\n",
       "      <th>1</th>\n",
       "      <td>-0.879959</td>\n",
       "      <td>-0.729472</td>\n",
       "      <td>0.633308</td>\n",
       "      <td>-1.648852</td>\n",
       "      <td>0.0</td>\n",
       "      <td>1.0</td>\n",
       "      <td>0.0</td>\n",
       "    </tr>\n",
       "    <tr>\n",
       "      <th>2</th>\n",
       "      <td>-1.014761</td>\n",
       "      <td>-0.227450</td>\n",
       "      <td>0.944290</td>\n",
       "      <td>-1.617430</td>\n",
       "      <td>0.0</td>\n",
       "      <td>1.0</td>\n",
       "      <td>0.0</td>\n",
       "    </tr>\n",
       "    <tr>\n",
       "      <th>3</th>\n",
       "      <td>-0.947360</td>\n",
       "      <td>-0.590021</td>\n",
       "      <td>-0.048845</td>\n",
       "      <td>-1.586009</td>\n",
       "      <td>0.0</td>\n",
       "      <td>1.0</td>\n",
       "      <td>0.0</td>\n",
       "    </tr>\n",
       "    <tr>\n",
       "      <th>4</th>\n",
       "      <td>-0.879959</td>\n",
       "      <td>-0.729472</td>\n",
       "      <td>0.001313</td>\n",
       "      <td>-1.554588</td>\n",
       "      <td>0.0</td>\n",
       "      <td>1.0</td>\n",
       "      <td>0.0</td>\n",
       "    </tr>\n",
       "    <tr>\n",
       "      <th>...</th>\n",
       "      <td>...</td>\n",
       "      <td>...</td>\n",
       "      <td>...</td>\n",
       "      <td>...</td>\n",
       "      <td>...</td>\n",
       "      <td>...</td>\n",
       "      <td>...</td>\n",
       "    </tr>\n",
       "    <tr>\n",
       "      <th>9995</th>\n",
       "      <td>-1.082162</td>\n",
       "      <td>0.363820</td>\n",
       "      <td>-1.052012</td>\n",
       "      <td>-1.476034</td>\n",
       "      <td>0.0</td>\n",
       "      <td>0.0</td>\n",
       "      <td>1.0</td>\n",
       "    </tr>\n",
       "    <tr>\n",
       "      <th>9996</th>\n",
       "      <td>-1.082162</td>\n",
       "      <td>0.520005</td>\n",
       "      <td>-0.821283</td>\n",
       "      <td>-1.428902</td>\n",
       "      <td>1.0</td>\n",
       "      <td>0.0</td>\n",
       "      <td>0.0</td>\n",
       "    </tr>\n",
       "    <tr>\n",
       "      <th>9997</th>\n",
       "      <td>-0.947360</td>\n",
       "      <td>0.592519</td>\n",
       "      <td>-0.660777</td>\n",
       "      <td>-1.350349</td>\n",
       "      <td>0.0</td>\n",
       "      <td>0.0</td>\n",
       "      <td>1.0</td>\n",
       "    </tr>\n",
       "    <tr>\n",
       "      <th>9998</th>\n",
       "      <td>-0.879959</td>\n",
       "      <td>-0.729472</td>\n",
       "      <td>0.854005</td>\n",
       "      <td>-1.303217</td>\n",
       "      <td>1.0</td>\n",
       "      <td>0.0</td>\n",
       "      <td>0.0</td>\n",
       "    </tr>\n",
       "    <tr>\n",
       "      <th>9999</th>\n",
       "      <td>-0.879959</td>\n",
       "      <td>-0.216294</td>\n",
       "      <td>0.021376</td>\n",
       "      <td>-1.224663</td>\n",
       "      <td>0.0</td>\n",
       "      <td>0.0</td>\n",
       "      <td>1.0</td>\n",
       "    </tr>\n",
       "  </tbody>\n",
       "</table>\n",
       "<p>10000 rows × 7 columns</p>\n",
       "</div>"
      ],
      "text/plain": [
       "      Process temperature [K]  Rotational speed [rpm]  Torque [Nm]  \\\n",
       "0                   -0.947360                0.068185     0.282200   \n",
       "1                   -0.879959               -0.729472     0.633308   \n",
       "2                   -1.014761               -0.227450     0.944290   \n",
       "3                   -0.947360               -0.590021    -0.048845   \n",
       "4                   -0.879959               -0.729472     0.001313   \n",
       "...                       ...                     ...          ...   \n",
       "9995                -1.082162                0.363820    -1.052012   \n",
       "9996                -1.082162                0.520005    -0.821283   \n",
       "9997                -0.947360                0.592519    -0.660777   \n",
       "9998                -0.879959               -0.729472     0.854005   \n",
       "9999                -0.879959               -0.216294     0.021376   \n",
       "\n",
       "      Tool wear [min]  Type1  Type2  Type3  \n",
       "0           -1.695984    0.0    0.0    1.0  \n",
       "1           -1.648852    0.0    1.0    0.0  \n",
       "2           -1.617430    0.0    1.0    0.0  \n",
       "3           -1.586009    0.0    1.0    0.0  \n",
       "4           -1.554588    0.0    1.0    0.0  \n",
       "...               ...    ...    ...    ...  \n",
       "9995        -1.476034    0.0    0.0    1.0  \n",
       "9996        -1.428902    1.0    0.0    0.0  \n",
       "9997        -1.350349    0.0    0.0    1.0  \n",
       "9998        -1.303217    1.0    0.0    0.0  \n",
       "9999        -1.224663    0.0    0.0    1.0  \n",
       "\n",
       "[10000 rows x 7 columns]"
      ]
     },
     "execution_count": 319,
     "metadata": {},
     "output_type": "execute_result"
    }
   ],
   "source": [
    "x_prepared_df"
   ]
  },
  {
   "cell_type": "code",
   "execution_count": 320,
   "id": "elegant-flush",
   "metadata": {},
   "outputs": [],
   "source": [
    "x=pd.concat((x_prepared_df,x_cat_notransform),axis=1)"
   ]
  },
  {
   "cell_type": "code",
   "execution_count": null,
   "id": "radio-savage",
   "metadata": {},
   "outputs": [],
   "source": []
  },
  {
   "cell_type": "code",
   "execution_count": 321,
   "id": "requested-education",
   "metadata": {},
   "outputs": [
    {
     "data": {
      "text/html": [
       "<div>\n",
       "<style scoped>\n",
       "    .dataframe tbody tr th:only-of-type {\n",
       "        vertical-align: middle;\n",
       "    }\n",
       "\n",
       "    .dataframe tbody tr th {\n",
       "        vertical-align: top;\n",
       "    }\n",
       "\n",
       "    .dataframe thead th {\n",
       "        text-align: right;\n",
       "    }\n",
       "</style>\n",
       "<table border=\"1\" class=\"dataframe\">\n",
       "  <thead>\n",
       "    <tr style=\"text-align: right;\">\n",
       "      <th></th>\n",
       "      <th>Process temperature [K]</th>\n",
       "      <th>Rotational speed [rpm]</th>\n",
       "      <th>Torque [Nm]</th>\n",
       "      <th>Tool wear [min]</th>\n",
       "      <th>Type1</th>\n",
       "      <th>Type2</th>\n",
       "      <th>Type3</th>\n",
       "      <th>Machine failure</th>\n",
       "      <th>TWF</th>\n",
       "      <th>HDF</th>\n",
       "      <th>PWF</th>\n",
       "      <th>OSF</th>\n",
       "      <th>RNF</th>\n",
       "    </tr>\n",
       "  </thead>\n",
       "  <tbody>\n",
       "    <tr>\n",
       "      <th>0</th>\n",
       "      <td>-0.947360</td>\n",
       "      <td>0.068185</td>\n",
       "      <td>0.282200</td>\n",
       "      <td>-1.695984</td>\n",
       "      <td>0.0</td>\n",
       "      <td>0.0</td>\n",
       "      <td>1.0</td>\n",
       "      <td>0</td>\n",
       "      <td>0</td>\n",
       "      <td>0</td>\n",
       "      <td>0</td>\n",
       "      <td>0</td>\n",
       "      <td>0</td>\n",
       "    </tr>\n",
       "    <tr>\n",
       "      <th>1</th>\n",
       "      <td>-0.879959</td>\n",
       "      <td>-0.729472</td>\n",
       "      <td>0.633308</td>\n",
       "      <td>-1.648852</td>\n",
       "      <td>0.0</td>\n",
       "      <td>1.0</td>\n",
       "      <td>0.0</td>\n",
       "      <td>0</td>\n",
       "      <td>0</td>\n",
       "      <td>0</td>\n",
       "      <td>0</td>\n",
       "      <td>0</td>\n",
       "      <td>0</td>\n",
       "    </tr>\n",
       "    <tr>\n",
       "      <th>2</th>\n",
       "      <td>-1.014761</td>\n",
       "      <td>-0.227450</td>\n",
       "      <td>0.944290</td>\n",
       "      <td>-1.617430</td>\n",
       "      <td>0.0</td>\n",
       "      <td>1.0</td>\n",
       "      <td>0.0</td>\n",
       "      <td>0</td>\n",
       "      <td>0</td>\n",
       "      <td>0</td>\n",
       "      <td>0</td>\n",
       "      <td>0</td>\n",
       "      <td>0</td>\n",
       "    </tr>\n",
       "    <tr>\n",
       "      <th>3</th>\n",
       "      <td>-0.947360</td>\n",
       "      <td>-0.590021</td>\n",
       "      <td>-0.048845</td>\n",
       "      <td>-1.586009</td>\n",
       "      <td>0.0</td>\n",
       "      <td>1.0</td>\n",
       "      <td>0.0</td>\n",
       "      <td>0</td>\n",
       "      <td>0</td>\n",
       "      <td>0</td>\n",
       "      <td>0</td>\n",
       "      <td>0</td>\n",
       "      <td>0</td>\n",
       "    </tr>\n",
       "    <tr>\n",
       "      <th>4</th>\n",
       "      <td>-0.879959</td>\n",
       "      <td>-0.729472</td>\n",
       "      <td>0.001313</td>\n",
       "      <td>-1.554588</td>\n",
       "      <td>0.0</td>\n",
       "      <td>1.0</td>\n",
       "      <td>0.0</td>\n",
       "      <td>0</td>\n",
       "      <td>0</td>\n",
       "      <td>0</td>\n",
       "      <td>0</td>\n",
       "      <td>0</td>\n",
       "      <td>0</td>\n",
       "    </tr>\n",
       "    <tr>\n",
       "      <th>...</th>\n",
       "      <td>...</td>\n",
       "      <td>...</td>\n",
       "      <td>...</td>\n",
       "      <td>...</td>\n",
       "      <td>...</td>\n",
       "      <td>...</td>\n",
       "      <td>...</td>\n",
       "      <td>...</td>\n",
       "      <td>...</td>\n",
       "      <td>...</td>\n",
       "      <td>...</td>\n",
       "      <td>...</td>\n",
       "      <td>...</td>\n",
       "    </tr>\n",
       "    <tr>\n",
       "      <th>9995</th>\n",
       "      <td>-1.082162</td>\n",
       "      <td>0.363820</td>\n",
       "      <td>-1.052012</td>\n",
       "      <td>-1.476034</td>\n",
       "      <td>0.0</td>\n",
       "      <td>0.0</td>\n",
       "      <td>1.0</td>\n",
       "      <td>0</td>\n",
       "      <td>0</td>\n",
       "      <td>0</td>\n",
       "      <td>0</td>\n",
       "      <td>0</td>\n",
       "      <td>0</td>\n",
       "    </tr>\n",
       "    <tr>\n",
       "      <th>9996</th>\n",
       "      <td>-1.082162</td>\n",
       "      <td>0.520005</td>\n",
       "      <td>-0.821283</td>\n",
       "      <td>-1.428902</td>\n",
       "      <td>1.0</td>\n",
       "      <td>0.0</td>\n",
       "      <td>0.0</td>\n",
       "      <td>0</td>\n",
       "      <td>0</td>\n",
       "      <td>0</td>\n",
       "      <td>0</td>\n",
       "      <td>0</td>\n",
       "      <td>0</td>\n",
       "    </tr>\n",
       "    <tr>\n",
       "      <th>9997</th>\n",
       "      <td>-0.947360</td>\n",
       "      <td>0.592519</td>\n",
       "      <td>-0.660777</td>\n",
       "      <td>-1.350349</td>\n",
       "      <td>0.0</td>\n",
       "      <td>0.0</td>\n",
       "      <td>1.0</td>\n",
       "      <td>0</td>\n",
       "      <td>0</td>\n",
       "      <td>0</td>\n",
       "      <td>0</td>\n",
       "      <td>0</td>\n",
       "      <td>0</td>\n",
       "    </tr>\n",
       "    <tr>\n",
       "      <th>9998</th>\n",
       "      <td>-0.879959</td>\n",
       "      <td>-0.729472</td>\n",
       "      <td>0.854005</td>\n",
       "      <td>-1.303217</td>\n",
       "      <td>1.0</td>\n",
       "      <td>0.0</td>\n",
       "      <td>0.0</td>\n",
       "      <td>0</td>\n",
       "      <td>0</td>\n",
       "      <td>0</td>\n",
       "      <td>0</td>\n",
       "      <td>0</td>\n",
       "      <td>0</td>\n",
       "    </tr>\n",
       "    <tr>\n",
       "      <th>9999</th>\n",
       "      <td>-0.879959</td>\n",
       "      <td>-0.216294</td>\n",
       "      <td>0.021376</td>\n",
       "      <td>-1.224663</td>\n",
       "      <td>0.0</td>\n",
       "      <td>0.0</td>\n",
       "      <td>1.0</td>\n",
       "      <td>0</td>\n",
       "      <td>0</td>\n",
       "      <td>0</td>\n",
       "      <td>0</td>\n",
       "      <td>0</td>\n",
       "      <td>0</td>\n",
       "    </tr>\n",
       "  </tbody>\n",
       "</table>\n",
       "<p>10000 rows × 13 columns</p>\n",
       "</div>"
      ],
      "text/plain": [
       "      Process temperature [K]  Rotational speed [rpm]  Torque [Nm]  \\\n",
       "0                   -0.947360                0.068185     0.282200   \n",
       "1                   -0.879959               -0.729472     0.633308   \n",
       "2                   -1.014761               -0.227450     0.944290   \n",
       "3                   -0.947360               -0.590021    -0.048845   \n",
       "4                   -0.879959               -0.729472     0.001313   \n",
       "...                       ...                     ...          ...   \n",
       "9995                -1.082162                0.363820    -1.052012   \n",
       "9996                -1.082162                0.520005    -0.821283   \n",
       "9997                -0.947360                0.592519    -0.660777   \n",
       "9998                -0.879959               -0.729472     0.854005   \n",
       "9999                -0.879959               -0.216294     0.021376   \n",
       "\n",
       "      Tool wear [min]  Type1  Type2  Type3  Machine failure  TWF  HDF  PWF  \\\n",
       "0           -1.695984    0.0    0.0    1.0                0    0    0    0   \n",
       "1           -1.648852    0.0    1.0    0.0                0    0    0    0   \n",
       "2           -1.617430    0.0    1.0    0.0                0    0    0    0   \n",
       "3           -1.586009    0.0    1.0    0.0                0    0    0    0   \n",
       "4           -1.554588    0.0    1.0    0.0                0    0    0    0   \n",
       "...               ...    ...    ...    ...              ...  ...  ...  ...   \n",
       "9995        -1.476034    0.0    0.0    1.0                0    0    0    0   \n",
       "9996        -1.428902    1.0    0.0    0.0                0    0    0    0   \n",
       "9997        -1.350349    0.0    0.0    1.0                0    0    0    0   \n",
       "9998        -1.303217    1.0    0.0    0.0                0    0    0    0   \n",
       "9999        -1.224663    0.0    0.0    1.0                0    0    0    0   \n",
       "\n",
       "      OSF  RNF  \n",
       "0       0    0  \n",
       "1       0    0  \n",
       "2       0    0  \n",
       "3       0    0  \n",
       "4       0    0  \n",
       "...   ...  ...  \n",
       "9995    0    0  \n",
       "9996    0    0  \n",
       "9997    0    0  \n",
       "9998    0    0  \n",
       "9999    0    0  \n",
       "\n",
       "[10000 rows x 13 columns]"
      ]
     },
     "execution_count": 321,
     "metadata": {},
     "output_type": "execute_result"
    }
   ],
   "source": [
    "x"
   ]
  },
  {
   "cell_type": "code",
   "execution_count": 322,
   "id": "identified-brazil",
   "metadata": {},
   "outputs": [
    {
     "data": {
      "text/plain": [
       "0       298.1\n",
       "1       298.2\n",
       "2       298.1\n",
       "3       298.2\n",
       "4       298.2\n",
       "        ...  \n",
       "9995    298.8\n",
       "9996    298.9\n",
       "9997    299.0\n",
       "9998    299.0\n",
       "9999    299.0\n",
       "Name: Air temperature [K], Length: 10000, dtype: float64"
      ]
     },
     "execution_count": 322,
     "metadata": {},
     "output_type": "execute_result"
    }
   ],
   "source": [
    "y"
   ]
  },
  {
   "cell_type": "markdown",
   "id": "cooked-haiti",
   "metadata": {},
   "source": [
    "# Let's check multi co-liearity through vif ( variance inflation factor):1/[1-R^2]"
   ]
  },
  {
   "cell_type": "code",
   "execution_count": 323,
   "id": "radio-dryer",
   "metadata": {},
   "outputs": [],
   "source": [
    "# Scalled array\n",
    "arr=x.to_numpy()"
   ]
  },
  {
   "cell_type": "code",
   "execution_count": 324,
   "id": "smooth-enlargement",
   "metadata": {},
   "outputs": [
    {
     "data": {
      "text/plain": [
       "(10000, 13)"
      ]
     },
     "execution_count": 324,
     "metadata": {},
     "output_type": "execute_result"
    }
   ],
   "source": [
    "arr.shape"
   ]
  },
  {
   "cell_type": "code",
   "execution_count": 325,
   "id": "literary-granny",
   "metadata": {},
   "outputs": [],
   "source": [
    "# inputs to VIF are array and the indexes \n",
    "from statsmodels.stats.outliers_influence import variance_inflation_factor\n",
    "vif_df = pd.DataFrame()\n",
    "vif_df['vif'] = [variance_inflation_factor(arr,i) for i in range(arr.shape[1])]\n",
    "vif_df['feature']  = x.columns"
   ]
  },
  {
   "cell_type": "code",
   "execution_count": 326,
   "id": "important-border",
   "metadata": {},
   "outputs": [
    {
     "data": {
      "text/html": [
       "<div>\n",
       "<style scoped>\n",
       "    .dataframe tbody tr th:only-of-type {\n",
       "        vertical-align: middle;\n",
       "    }\n",
       "\n",
       "    .dataframe tbody tr th {\n",
       "        vertical-align: top;\n",
       "    }\n",
       "\n",
       "    .dataframe thead th {\n",
       "        text-align: right;\n",
       "    }\n",
       "</style>\n",
       "<table border=\"1\" class=\"dataframe\">\n",
       "  <thead>\n",
       "    <tr style=\"text-align: right;\">\n",
       "      <th></th>\n",
       "      <th>vif</th>\n",
       "      <th>feature</th>\n",
       "    </tr>\n",
       "  </thead>\n",
       "  <tbody>\n",
       "    <tr>\n",
       "      <th>0</th>\n",
       "      <td>1.005125</td>\n",
       "      <td>Process temperature [K]</td>\n",
       "    </tr>\n",
       "    <tr>\n",
       "      <th>1</th>\n",
       "      <td>5.171742</td>\n",
       "      <td>Rotational speed [rpm]</td>\n",
       "    </tr>\n",
       "    <tr>\n",
       "      <th>2</th>\n",
       "      <td>5.236178</td>\n",
       "      <td>Torque [Nm]</td>\n",
       "    </tr>\n",
       "    <tr>\n",
       "      <th>3</th>\n",
       "      <td>1.039958</td>\n",
       "      <td>Tool wear [min]</td>\n",
       "    </tr>\n",
       "    <tr>\n",
       "      <th>4</th>\n",
       "      <td>1.003661</td>\n",
       "      <td>Type1</td>\n",
       "    </tr>\n",
       "    <tr>\n",
       "      <th>5</th>\n",
       "      <td>1.033789</td>\n",
       "      <td>Type2</td>\n",
       "    </tr>\n",
       "    <tr>\n",
       "      <th>6</th>\n",
       "      <td>1.009655</td>\n",
       "      <td>Type3</td>\n",
       "    </tr>\n",
       "    <tr>\n",
       "      <th>7</th>\n",
       "      <td>11.831631</td>\n",
       "      <td>Machine failure</td>\n",
       "    </tr>\n",
       "    <tr>\n",
       "      <th>8</th>\n",
       "      <td>2.433909</td>\n",
       "      <td>TWF</td>\n",
       "    </tr>\n",
       "    <tr>\n",
       "      <th>9</th>\n",
       "      <td>4.597177</td>\n",
       "      <td>HDF</td>\n",
       "    </tr>\n",
       "    <tr>\n",
       "      <th>10</th>\n",
       "      <td>3.624452</td>\n",
       "      <td>PWF</td>\n",
       "    </tr>\n",
       "    <tr>\n",
       "      <th>11</th>\n",
       "      <td>3.349567</td>\n",
       "      <td>OSF</td>\n",
       "    </tr>\n",
       "    <tr>\n",
       "      <th>12</th>\n",
       "      <td>1.002524</td>\n",
       "      <td>RNF</td>\n",
       "    </tr>\n",
       "  </tbody>\n",
       "</table>\n",
       "</div>"
      ],
      "text/plain": [
       "          vif                  feature\n",
       "0    1.005125  Process temperature [K]\n",
       "1    5.171742   Rotational speed [rpm]\n",
       "2    5.236178              Torque [Nm]\n",
       "3    1.039958          Tool wear [min]\n",
       "4    1.003661                    Type1\n",
       "5    1.033789                    Type2\n",
       "6    1.009655                    Type3\n",
       "7   11.831631          Machine failure\n",
       "8    2.433909                      TWF\n",
       "9    4.597177                      HDF\n",
       "10   3.624452                      PWF\n",
       "11   3.349567                      OSF\n",
       "12   1.002524                      RNF"
      ]
     },
     "execution_count": 326,
     "metadata": {},
     "output_type": "execute_result"
    }
   ],
   "source": [
    "vif_df"
   ]
  },
  {
   "cell_type": "markdown",
   "id": "binding-specific",
   "metadata": {},
   "source": [
    "# The variance inflation factor for Machine Failure is very high >10, so it is having multi-coleanirty, we can remove this feature as multi colinearity increases the variance of coefficients in regression."
   ]
  },
  {
   "cell_type": "code",
   "execution_count": 327,
   "id": "technical-memorial",
   "metadata": {},
   "outputs": [],
   "source": [
    "x.drop('Machine failure',axis=1,inplace=True)"
   ]
  },
  {
   "cell_type": "code",
   "execution_count": 401,
   "id": "alternate-denver",
   "metadata": {},
   "outputs": [],
   "source": [
    "from sklearn.model_selection import train_test_split \n",
    "train_x,test_x,train_y,test_y=train_test_split(x,y,test_size=.2,random_state=42)"
   ]
  },
  {
   "cell_type": "code",
   "execution_count": 402,
   "id": "dress-tumor",
   "metadata": {},
   "outputs": [
    {
     "data": {
      "text/plain": [
       "((8000, 12), (8000,), (2000, 12), (2000,))"
      ]
     },
     "execution_count": 402,
     "metadata": {},
     "output_type": "execute_result"
    }
   ],
   "source": [
    "train_x.shape,train_y.shape,test_x.shape,test_y.shape"
   ]
  },
  {
   "cell_type": "code",
   "execution_count": 403,
   "id": "corporate-charleston",
   "metadata": {},
   "outputs": [],
   "source": [
    "# Creating the MODEL"
   ]
  },
  {
   "cell_type": "code",
   "execution_count": 404,
   "id": "known-shelter",
   "metadata": {},
   "outputs": [],
   "source": [
    "linear = LinearRegression()"
   ]
  },
  {
   "cell_type": "code",
   "execution_count": 405,
   "id": "maritime-impact",
   "metadata": {},
   "outputs": [
    {
     "data": {
      "text/plain": [
       "LinearRegression()"
      ]
     },
     "execution_count": 405,
     "metadata": {},
     "output_type": "execute_result"
    }
   ],
   "source": [
    "linear.fit(train_x,train_y)"
   ]
  },
  {
   "cell_type": "code",
   "execution_count": 406,
   "id": "champion-hotel",
   "metadata": {},
   "outputs": [
    {
     "data": {
      "text/plain": [
       "array([ 1.74261129e+00,  4.16716787e-02,  1.71574052e-02,  6.03906120e-03,\n",
       "       -3.10118352e-02,  4.98835639e-04,  3.05129996e-02,  7.87679956e-02,\n",
       "        1.71514527e+00,  6.88762994e-02, -1.77708081e-01, -2.13492363e-02])"
      ]
     },
     "execution_count": 406,
     "metadata": {},
     "output_type": "execute_result"
    }
   ],
   "source": [
    "linear.coef_"
   ]
  },
  {
   "cell_type": "code",
   "execution_count": 407,
   "id": "transsexual-damages",
   "metadata": {},
   "outputs": [
    {
     "data": {
      "text/plain": [
       "299.98264242277685"
      ]
     },
     "execution_count": 407,
     "metadata": {},
     "output_type": "execute_result"
    }
   ],
   "source": [
    "linear.intercept_"
   ]
  },
  {
   "cell_type": "code",
   "execution_count": 408,
   "id": "related-fossil",
   "metadata": {},
   "outputs": [
    {
     "data": {
      "text/plain": [
       "0.7792962121552691"
      ]
     },
     "execution_count": 408,
     "metadata": {},
     "output_type": "execute_result"
    }
   ],
   "source": [
    "# training score\n",
    "linear.score(train_x,train_y)"
   ]
  },
  {
   "cell_type": "code",
   "execution_count": 409,
   "id": "sorted-hunger",
   "metadata": {},
   "outputs": [],
   "source": [
    "# Saving the model"
   ]
  },
  {
   "cell_type": "code",
   "execution_count": 410,
   "id": "judicial-baking",
   "metadata": {},
   "outputs": [],
   "source": [
    "file='linear_reg.sav'\n",
    "pickle.dump(linear,open(file,'wb'))"
   ]
  },
  {
   "cell_type": "code",
   "execution_count": 411,
   "id": "strong-cement",
   "metadata": {},
   "outputs": [],
   "source": [
    "# Using/Loading the saved model"
   ]
  },
  {
   "cell_type": "code",
   "execution_count": 412,
   "id": "broken-macro",
   "metadata": {},
   "outputs": [],
   "source": [
    "model = pickle.load(open('linear_reg.sav','rb'))"
   ]
  },
  {
   "cell_type": "code",
   "execution_count": 413,
   "id": "lightweight-composite",
   "metadata": {},
   "outputs": [],
   "source": [
    "# Predict few instances"
   ]
  },
  {
   "cell_type": "code",
   "execution_count": 414,
   "id": "competent-liquid",
   "metadata": {},
   "outputs": [
    {
     "data": {
      "text/html": [
       "<div>\n",
       "<style scoped>\n",
       "    .dataframe tbody tr th:only-of-type {\n",
       "        vertical-align: middle;\n",
       "    }\n",
       "\n",
       "    .dataframe tbody tr th {\n",
       "        vertical-align: top;\n",
       "    }\n",
       "\n",
       "    .dataframe thead th {\n",
       "        text-align: right;\n",
       "    }\n",
       "</style>\n",
       "<table border=\"1\" class=\"dataframe\">\n",
       "  <thead>\n",
       "    <tr style=\"text-align: right;\">\n",
       "      <th></th>\n",
       "      <th>UDI</th>\n",
       "      <th>Product ID</th>\n",
       "      <th>Type</th>\n",
       "      <th>Air temperature [K]</th>\n",
       "      <th>Process temperature [K]</th>\n",
       "      <th>Rotational speed [rpm]</th>\n",
       "      <th>Torque [Nm]</th>\n",
       "      <th>Tool wear [min]</th>\n",
       "      <th>Machine failure</th>\n",
       "      <th>TWF</th>\n",
       "      <th>HDF</th>\n",
       "      <th>PWF</th>\n",
       "      <th>OSF</th>\n",
       "      <th>RNF</th>\n",
       "    </tr>\n",
       "  </thead>\n",
       "  <tbody>\n",
       "    <tr>\n",
       "      <th>0</th>\n",
       "      <td>1</td>\n",
       "      <td>M14860</td>\n",
       "      <td>M</td>\n",
       "      <td>298.1</td>\n",
       "      <td>308.6</td>\n",
       "      <td>1551</td>\n",
       "      <td>42.8</td>\n",
       "      <td>0</td>\n",
       "      <td>0</td>\n",
       "      <td>0</td>\n",
       "      <td>0</td>\n",
       "      <td>0</td>\n",
       "      <td>0</td>\n",
       "      <td>0</td>\n",
       "    </tr>\n",
       "    <tr>\n",
       "      <th>1</th>\n",
       "      <td>2</td>\n",
       "      <td>L47181</td>\n",
       "      <td>L</td>\n",
       "      <td>298.2</td>\n",
       "      <td>308.7</td>\n",
       "      <td>1408</td>\n",
       "      <td>46.3</td>\n",
       "      <td>3</td>\n",
       "      <td>0</td>\n",
       "      <td>0</td>\n",
       "      <td>0</td>\n",
       "      <td>0</td>\n",
       "      <td>0</td>\n",
       "      <td>0</td>\n",
       "    </tr>\n",
       "    <tr>\n",
       "      <th>2</th>\n",
       "      <td>3</td>\n",
       "      <td>L47182</td>\n",
       "      <td>L</td>\n",
       "      <td>298.1</td>\n",
       "      <td>308.5</td>\n",
       "      <td>1498</td>\n",
       "      <td>49.4</td>\n",
       "      <td>5</td>\n",
       "      <td>0</td>\n",
       "      <td>0</td>\n",
       "      <td>0</td>\n",
       "      <td>0</td>\n",
       "      <td>0</td>\n",
       "      <td>0</td>\n",
       "    </tr>\n",
       "    <tr>\n",
       "      <th>3</th>\n",
       "      <td>4</td>\n",
       "      <td>L47183</td>\n",
       "      <td>L</td>\n",
       "      <td>298.2</td>\n",
       "      <td>308.6</td>\n",
       "      <td>1433</td>\n",
       "      <td>39.5</td>\n",
       "      <td>7</td>\n",
       "      <td>0</td>\n",
       "      <td>0</td>\n",
       "      <td>0</td>\n",
       "      <td>0</td>\n",
       "      <td>0</td>\n",
       "      <td>0</td>\n",
       "    </tr>\n",
       "    <tr>\n",
       "      <th>4</th>\n",
       "      <td>5</td>\n",
       "      <td>L47184</td>\n",
       "      <td>L</td>\n",
       "      <td>298.2</td>\n",
       "      <td>308.7</td>\n",
       "      <td>1408</td>\n",
       "      <td>40.0</td>\n",
       "      <td>9</td>\n",
       "      <td>0</td>\n",
       "      <td>0</td>\n",
       "      <td>0</td>\n",
       "      <td>0</td>\n",
       "      <td>0</td>\n",
       "      <td>0</td>\n",
       "    </tr>\n",
       "  </tbody>\n",
       "</table>\n",
       "</div>"
      ],
      "text/plain": [
       "   UDI Product ID Type  Air temperature [K]  Process temperature [K]  \\\n",
       "0    1     M14860    M                298.1                    308.6   \n",
       "1    2     L47181    L                298.2                    308.7   \n",
       "2    3     L47182    L                298.1                    308.5   \n",
       "3    4     L47183    L                298.2                    308.6   \n",
       "4    5     L47184    L                298.2                    308.7   \n",
       "\n",
       "   Rotational speed [rpm]  Torque [Nm]  Tool wear [min]  Machine failure  TWF  \\\n",
       "0                    1551         42.8                0                0    0   \n",
       "1                    1408         46.3                3                0    0   \n",
       "2                    1498         49.4                5                0    0   \n",
       "3                    1433         39.5                7                0    0   \n",
       "4                    1408         40.0                9                0    0   \n",
       "\n",
       "   HDF  PWF  OSF  RNF  \n",
       "0    0    0    0    0  \n",
       "1    0    0    0    0  \n",
       "2    0    0    0    0  \n",
       "3    0    0    0    0  \n",
       "4    0    0    0    0  "
      ]
     },
     "execution_count": 414,
     "metadata": {},
     "output_type": "execute_result"
    }
   ],
   "source": [
    "df_origin.head()"
   ]
  },
  {
   "cell_type": "code",
   "execution_count": null,
   "id": "configured-hawaiian",
   "metadata": {},
   "outputs": [],
   "source": []
  },
  {
   "cell_type": "code",
   "execution_count": 415,
   "id": "pretty-scene",
   "metadata": {},
   "outputs": [],
   "source": [
    "# Predicting for test datasest"
   ]
  },
  {
   "cell_type": "code",
   "execution_count": 416,
   "id": "material-upper",
   "metadata": {},
   "outputs": [],
   "source": [
    "test_predict=model.predict(test_x)"
   ]
  },
  {
   "cell_type": "code",
   "execution_count": 417,
   "id": "missing-valley",
   "metadata": {},
   "outputs": [
    {
     "data": {
      "text/plain": [
       "0.7608966849867573"
      ]
     },
     "execution_count": 417,
     "metadata": {},
     "output_type": "execute_result"
    }
   ],
   "source": [
    "# testing score\n",
    "linear.score(test_x,test_y)"
   ]
  },
  {
   "cell_type": "code",
   "execution_count": 418,
   "id": "prime-newfoundland",
   "metadata": {},
   "outputs": [
    {
     "data": {
      "text/plain": [
       "array([300.33064467, 302.10103695, 297.531924  , ..., 301.94061414,\n",
       "       297.3225992 , 301.84706363])"
      ]
     },
     "execution_count": 418,
     "metadata": {},
     "output_type": "execute_result"
    }
   ],
   "source": [
    "test_predict"
   ]
  },
  {
   "cell_type": "code",
   "execution_count": 392,
   "id": "urban-binary",
   "metadata": {},
   "outputs": [
    {
     "data": {
      "text/plain": [
       "6252    300.8\n",
       "4684    303.6\n",
       "1731    298.3\n",
       "4742    303.3\n",
       "4521    302.4\n",
       "        ...  \n",
       "6412    300.4\n",
       "8285    298.9\n",
       "7853    300.3\n",
       "1095    296.9\n",
       "6929    301.0\n",
       "Name: Air temperature [K], Length: 2000, dtype: float64"
      ]
     },
     "execution_count": 392,
     "metadata": {},
     "output_type": "execute_result"
    }
   ],
   "source": [
    "test_y"
   ]
  },
  {
   "cell_type": "code",
   "execution_count": 393,
   "id": "swedish-charles",
   "metadata": {},
   "outputs": [
    {
     "data": {
      "text/plain": [
       "(numpy.ndarray, pandas.core.series.Series)"
      ]
     },
     "execution_count": 393,
     "metadata": {},
     "output_type": "execute_result"
    }
   ],
   "source": [
    "type(test_predict),type(test_y)"
   ]
  },
  {
   "cell_type": "markdown",
   "id": "geographic-aberdeen",
   "metadata": {},
   "source": [
    "# Let's create a function to create adjusted R-Squared"
   ]
  },
  {
   "cell_type": "code",
   "execution_count": 421,
   "id": "constitutional-visiting",
   "metadata": {},
   "outputs": [
    {
     "data": {
      "text/plain": [
       "0.7594526790581418"
      ]
     },
     "execution_count": 421,
     "metadata": {},
     "output_type": "execute_result"
    }
   ],
   "source": [
    "\n",
    "def adj_r2(x,y):\n",
    "    r2 = linear.score(x,y)\n",
    "    n = x.shape[0]\n",
    "    p = x.shape[1]\n",
    "    adjusted_r2 = 1-(1-r2)*(n-1)/(n-p-1)\n",
    "    return adjusted_r2\n",
    "adj_r2(test_x,test_y)"
   ]
  },
  {
   "cell_type": "code",
   "execution_count": 394,
   "id": "assumed-solution",
   "metadata": {},
   "outputs": [
    {
     "name": "stderr",
     "output_type": "stream",
     "text": [
      "<ipython-input-394-f9edd144b0f1>:1: SettingWithCopyWarning: \n",
      "A value is trying to be set on a copy of a slice from a DataFrame.\n",
      "Try using .loc[row_indexer,col_indexer] = value instead\n",
      "\n",
      "See the caveats in the documentation: https://pandas.pydata.org/pandas-docs/stable/user_guide/indexing.html#returning-a-view-versus-a-copy\n",
      "  test_x['yhat']=test_predict\n"
     ]
    }
   ],
   "source": [
    "test_x['yhat']=test_predict"
   ]
  },
  {
   "cell_type": "code",
   "execution_count": 395,
   "id": "herbal-calculation",
   "metadata": {},
   "outputs": [
    {
     "name": "stderr",
     "output_type": "stream",
     "text": [
      "<ipython-input-395-36596bcaa595>:1: SettingWithCopyWarning: \n",
      "A value is trying to be set on a copy of a slice from a DataFrame.\n",
      "Try using .loc[row_indexer,col_indexer] = value instead\n",
      "\n",
      "See the caveats in the documentation: https://pandas.pydata.org/pandas-docs/stable/user_guide/indexing.html#returning-a-view-versus-a-copy\n",
      "  test_x['y']=test_y\n"
     ]
    }
   ],
   "source": [
    "test_x['y']=test_y"
   ]
  },
  {
   "cell_type": "code",
   "execution_count": 396,
   "id": "surrounded-secondary",
   "metadata": {},
   "outputs": [
    {
     "data": {
      "text/html": [
       "<div>\n",
       "<style scoped>\n",
       "    .dataframe tbody tr th:only-of-type {\n",
       "        vertical-align: middle;\n",
       "    }\n",
       "\n",
       "    .dataframe tbody tr th {\n",
       "        vertical-align: top;\n",
       "    }\n",
       "\n",
       "    .dataframe thead th {\n",
       "        text-align: right;\n",
       "    }\n",
       "</style>\n",
       "<table border=\"1\" class=\"dataframe\">\n",
       "  <thead>\n",
       "    <tr style=\"text-align: right;\">\n",
       "      <th></th>\n",
       "      <th>Process temperature [K]</th>\n",
       "      <th>Rotational speed [rpm]</th>\n",
       "      <th>Torque [Nm]</th>\n",
       "      <th>Tool wear [min]</th>\n",
       "      <th>Type1</th>\n",
       "      <th>Type2</th>\n",
       "      <th>Type3</th>\n",
       "      <th>TWF</th>\n",
       "      <th>HDF</th>\n",
       "      <th>PWF</th>\n",
       "      <th>OSF</th>\n",
       "      <th>RNF</th>\n",
       "      <th>yhat</th>\n",
       "      <th>y</th>\n",
       "    </tr>\n",
       "  </thead>\n",
       "  <tbody>\n",
       "    <tr>\n",
       "      <th>6252</th>\n",
       "      <td>0.198455</td>\n",
       "      <td>-0.004329</td>\n",
       "      <td>-0.389922</td>\n",
       "      <td>1.414731</td>\n",
       "      <td>0.0</td>\n",
       "      <td>1.0</td>\n",
       "      <td>0.0</td>\n",
       "      <td>0</td>\n",
       "      <td>0</td>\n",
       "      <td>0</td>\n",
       "      <td>0</td>\n",
       "      <td>0</td>\n",
       "      <td>300.330645</td>\n",
       "      <td>300.8</td>\n",
       "    </tr>\n",
       "    <tr>\n",
       "      <th>4684</th>\n",
       "      <td>1.209468</td>\n",
       "      <td>-0.656957</td>\n",
       "      <td>0.482833</td>\n",
       "      <td>-0.109205</td>\n",
       "      <td>0.0</td>\n",
       "      <td>0.0</td>\n",
       "      <td>1.0</td>\n",
       "      <td>0</td>\n",
       "      <td>0</td>\n",
       "      <td>0</td>\n",
       "      <td>0</td>\n",
       "      <td>0</td>\n",
       "      <td>302.101037</td>\n",
       "      <td>303.6</td>\n",
       "    </tr>\n",
       "    <tr>\n",
       "      <th>1731</th>\n",
       "      <td>-1.419166</td>\n",
       "      <td>-0.299964</td>\n",
       "      <td>0.201946</td>\n",
       "      <td>0.142166</td>\n",
       "      <td>0.0</td>\n",
       "      <td>0.0</td>\n",
       "      <td>1.0</td>\n",
       "      <td>0</td>\n",
       "      <td>0</td>\n",
       "      <td>0</td>\n",
       "      <td>0</td>\n",
       "      <td>0</td>\n",
       "      <td>297.531924</td>\n",
       "      <td>298.3</td>\n",
       "    </tr>\n",
       "    <tr>\n",
       "      <th>4742</th>\n",
       "      <td>0.872464</td>\n",
       "      <td>0.296884</td>\n",
       "      <td>-0.630682</td>\n",
       "      <td>-1.476034</td>\n",
       "      <td>0.0</td>\n",
       "      <td>1.0</td>\n",
       "      <td>0.0</td>\n",
       "      <td>0</td>\n",
       "      <td>0</td>\n",
       "      <td>0</td>\n",
       "      <td>0</td>\n",
       "      <td>0</td>\n",
       "      <td>301.496144</td>\n",
       "      <td>303.3</td>\n",
       "    </tr>\n",
       "    <tr>\n",
       "      <th>4521</th>\n",
       "      <td>0.265856</td>\n",
       "      <td>1.819683</td>\n",
       "      <td>-1.613785</td>\n",
       "      <td>0.330694</td>\n",
       "      <td>0.0</td>\n",
       "      <td>1.0</td>\n",
       "      <td>0.0</td>\n",
       "      <td>0</td>\n",
       "      <td>0</td>\n",
       "      <td>0</td>\n",
       "      <td>0</td>\n",
       "      <td>0</td>\n",
       "      <td>300.496563</td>\n",
       "      <td>302.4</td>\n",
       "    </tr>\n",
       "    <tr>\n",
       "      <th>...</th>\n",
       "      <td>...</td>\n",
       "      <td>...</td>\n",
       "      <td>...</td>\n",
       "      <td>...</td>\n",
       "      <td>...</td>\n",
       "      <td>...</td>\n",
       "      <td>...</td>\n",
       "      <td>...</td>\n",
       "      <td>...</td>\n",
       "      <td>...</td>\n",
       "      <td>...</td>\n",
       "      <td>...</td>\n",
       "      <td>...</td>\n",
       "      <td>...</td>\n",
       "    </tr>\n",
       "    <tr>\n",
       "      <th>6412</th>\n",
       "      <td>-0.003747</td>\n",
       "      <td>-0.645801</td>\n",
       "      <td>0.422643</td>\n",
       "      <td>1.273335</td>\n",
       "      <td>0.0</td>\n",
       "      <td>1.0</td>\n",
       "      <td>0.0</td>\n",
       "      <td>0</td>\n",
       "      <td>0</td>\n",
       "      <td>0</td>\n",
       "      <td>0</td>\n",
       "      <td>0</td>\n",
       "      <td>299.964640</td>\n",
       "      <td>300.4</td>\n",
       "    </tr>\n",
       "    <tr>\n",
       "      <th>8285</th>\n",
       "      <td>0.400658</td>\n",
       "      <td>-0.846610</td>\n",
       "      <td>1.275335</td>\n",
       "      <td>-1.664562</td>\n",
       "      <td>0.0</td>\n",
       "      <td>1.0</td>\n",
       "      <td>0.0</td>\n",
       "      <td>0</td>\n",
       "      <td>0</td>\n",
       "      <td>0</td>\n",
       "      <td>0</td>\n",
       "      <td>0</td>\n",
       "      <td>300.657881</td>\n",
       "      <td>298.9</td>\n",
       "    </tr>\n",
       "    <tr>\n",
       "      <th>7853</th>\n",
       "      <td>1.142068</td>\n",
       "      <td>-1.237071</td>\n",
       "      <td>1.656538</td>\n",
       "      <td>-1.586009</td>\n",
       "      <td>0.0</td>\n",
       "      <td>1.0</td>\n",
       "      <td>0.0</td>\n",
       "      <td>0</td>\n",
       "      <td>0</td>\n",
       "      <td>0</td>\n",
       "      <td>0</td>\n",
       "      <td>0</td>\n",
       "      <td>301.940614</td>\n",
       "      <td>300.3</td>\n",
       "    </tr>\n",
       "    <tr>\n",
       "      <th>1095</th>\n",
       "      <td>-1.688770</td>\n",
       "      <td>6.594467</td>\n",
       "      <td>-3.078408</td>\n",
       "      <td>-1.413191</td>\n",
       "      <td>0.0</td>\n",
       "      <td>1.0</td>\n",
       "      <td>0.0</td>\n",
       "      <td>0</td>\n",
       "      <td>0</td>\n",
       "      <td>1</td>\n",
       "      <td>0</td>\n",
       "      <td>0</td>\n",
       "      <td>297.322599</td>\n",
       "      <td>296.9</td>\n",
       "    </tr>\n",
       "    <tr>\n",
       "      <th>6929</th>\n",
       "      <td>1.074667</td>\n",
       "      <td>-1.326319</td>\n",
       "      <td>1.506063</td>\n",
       "      <td>-1.554588</td>\n",
       "      <td>0.0</td>\n",
       "      <td>0.0</td>\n",
       "      <td>1.0</td>\n",
       "      <td>0</td>\n",
       "      <td>0</td>\n",
       "      <td>0</td>\n",
       "      <td>0</td>\n",
       "      <td>0</td>\n",
       "      <td>301.847064</td>\n",
       "      <td>301.0</td>\n",
       "    </tr>\n",
       "  </tbody>\n",
       "</table>\n",
       "<p>2000 rows × 14 columns</p>\n",
       "</div>"
      ],
      "text/plain": [
       "      Process temperature [K]  Rotational speed [rpm]  Torque [Nm]  \\\n",
       "6252                 0.198455               -0.004329    -0.389922   \n",
       "4684                 1.209468               -0.656957     0.482833   \n",
       "1731                -1.419166               -0.299964     0.201946   \n",
       "4742                 0.872464                0.296884    -0.630682   \n",
       "4521                 0.265856                1.819683    -1.613785   \n",
       "...                       ...                     ...          ...   \n",
       "6412                -0.003747               -0.645801     0.422643   \n",
       "8285                 0.400658               -0.846610     1.275335   \n",
       "7853                 1.142068               -1.237071     1.656538   \n",
       "1095                -1.688770                6.594467    -3.078408   \n",
       "6929                 1.074667               -1.326319     1.506063   \n",
       "\n",
       "      Tool wear [min]  Type1  Type2  Type3  TWF  HDF  PWF  OSF  RNF  \\\n",
       "6252         1.414731    0.0    1.0    0.0    0    0    0    0    0   \n",
       "4684        -0.109205    0.0    0.0    1.0    0    0    0    0    0   \n",
       "1731         0.142166    0.0    0.0    1.0    0    0    0    0    0   \n",
       "4742        -1.476034    0.0    1.0    0.0    0    0    0    0    0   \n",
       "4521         0.330694    0.0    1.0    0.0    0    0    0    0    0   \n",
       "...               ...    ...    ...    ...  ...  ...  ...  ...  ...   \n",
       "6412         1.273335    0.0    1.0    0.0    0    0    0    0    0   \n",
       "8285        -1.664562    0.0    1.0    0.0    0    0    0    0    0   \n",
       "7853        -1.586009    0.0    1.0    0.0    0    0    0    0    0   \n",
       "1095        -1.413191    0.0    1.0    0.0    0    0    1    0    0   \n",
       "6929        -1.554588    0.0    0.0    1.0    0    0    0    0    0   \n",
       "\n",
       "            yhat      y  \n",
       "6252  300.330645  300.8  \n",
       "4684  302.101037  303.6  \n",
       "1731  297.531924  298.3  \n",
       "4742  301.496144  303.3  \n",
       "4521  300.496563  302.4  \n",
       "...          ...    ...  \n",
       "6412  299.964640  300.4  \n",
       "8285  300.657881  298.9  \n",
       "7853  301.940614  300.3  \n",
       "1095  297.322599  296.9  \n",
       "6929  301.847064  301.0  \n",
       "\n",
       "[2000 rows x 14 columns]"
      ]
     },
     "execution_count": 396,
     "metadata": {},
     "output_type": "execute_result"
    }
   ],
   "source": [
    "test_x"
   ]
  },
  {
   "cell_type": "code",
   "execution_count": 397,
   "id": "mysterious-institute",
   "metadata": {
    "scrolled": true
   },
   "outputs": [
    {
     "data": {
      "text/plain": [
       "<seaborn.axisgrid.FacetGrid at 0x1f226c66f70>"
      ]
     },
     "execution_count": 397,
     "metadata": {},
     "output_type": "execute_result"
    },
    {
     "data": {
      "image/png": "[encoded data removed]",
      "text/plain": [
       "<Figure size 360x360 with 1 Axes>"
      ]
     },
     "metadata": {
      "needs_background": "light"
     },
     "output_type": "display_data"
    }
   ],
   "source": [
    "sns.relplot(x='y',y='yhat',markers=True, kind=\"line\",data=test_x)"
   ]
  },
  {
   "cell_type": "code",
   "execution_count": null,
   "id": "palestinian-bridal",
   "metadata": {},
   "outputs": [],
   "source": [
    "# Predicting some new instances"
   ]
  },
  {
   "cell_type": "code",
   "execution_count": 252,
   "id": "frequent-baltimore",
   "metadata": {},
   "outputs": [],
   "source": [
    "from sklearn.compose import ColumnTransformer\n",
    "from sklearn.preprocessing import OneHotEncoder\n",
    "def transformation(df):\n",
    "    x=df.drop(['Air temperature [K]','UDI','Product ID'],axis=1)\n",
    "    \n",
    "    x_num=x[['Process temperature [K]','Rotational speed [rpm]','Torque [Nm]','Tool wear [min]']]\n",
    "    x_cat_notransform=x[['Machine failure','TWF','HDF','PWF','OSF','RNF']]\n",
    "    x_cat_transform=x[['Type']]\n",
    "\n",
    "    num_attributes=list(x_num)\n",
    "    cat_attribute_trans=list(x_cat_transform)\n",
    "    cat_attribute_notrans=list(x_cat_notransform)\n",
    "    num_pipeline=Pipeline([\n",
    "    ('imputer',SimpleImputer(strategy='median')),\n",
    "    ('std_scaller',StandardScaler()),])\n",
    "    \n",
    "    x_num['Tool wear [min]']=x_num['Tool wear [min]'].replace(0.,np.nan)\n",
    "    x_num_transform=num_pipeline.fit_transform(x_num)\n",
    "    #.print(x_num_transform)\n",
    "\n",
    "    \n",
    "    full_pipeline=ColumnTransformer([\n",
    "    (\"num\",num_pipeline,num_attributes),\n",
    "    (\"cat\",OneHotEncoder(),cat_attribute_trans),])\n",
    "    \n",
    "    x_prepared=full_pipeline.fit_transform(x)\n",
    "    x_prepared_df=pd.DataFrame(x_prepared,columns=['Process temperature [K]','Rotational speed [rpm]','Torque [Nm]','Tool wear [min]','Type1','Type2','Type3'])\n",
    "    x=pd.concat((x_prepared_df,x_cat_notransform),axis=1) \n",
    "    x.drop('Machine failure',axis=1,inplace=True) # dropping due to multi-colinearity\n",
    "    return (x)"
   ]
  },
  {
   "cell_type": "code",
   "execution_count": 259,
   "id": "exterior-summary",
   "metadata": {},
   "outputs": [
    {
     "name": "stdout",
     "output_type": "stream",
     "text": [
      "[297.50613411 301.53267786 302.54278376]\n"
     ]
    },
    {
     "name": "stderr",
     "output_type": "stream",
     "text": [
      "<ipython-input-252-258fb56dccc2>:17: SettingWithCopyWarning: \n",
      "A value is trying to be set on a copy of a slice from a DataFrame.\n",
      "Try using .loc[row_indexer,col_indexer] = value instead\n",
      "\n",
      "See the caveats in the documentation: https://pandas.pydata.org/pandas-docs/stable/user_guide/indexing.html#returning-a-view-versus-a-copy\n",
      "  x_num['Tool wear [min]']=x_num['Tool wear [min]'].replace(0.,np.nan)\n"
     ]
    }
   ],
   "source": [
    "data={'UDI':[1,2,3],'Product ID':[1,1,2],'Air temperature [K]':[298.0,299.0,300.0],'Type':['L',\"M\",'H'],\n",
    "      'Process temperature [K]':[300.,307.7,306.6],'Rotational speed [rpm]':[1550,1552,1551],'Torque [Nm]':[41,40,40],\n",
    "      'Tool wear [min]':[3,5,4],'Machine failure':[0,1,0],'TWF':[0,1,1],'HDF':[0,0,1],'PWF':[0,1,1],'OSF':[0,1,1],'RNF':[0,0,1]}\n",
    "df=pd.DataFrame(data)\n",
    "#print(df.shape)\n",
    "x=transformation(df)\n",
    "#print(x)\n",
    "#restroing the model\n",
    "model = pickle.load(open('linear_reg.sav','rb'))\n",
    "print(model.predict(x))"
   ]
  },
  {
   "cell_type": "markdown",
   "id": "interesting-beauty",
   "metadata": {},
   "source": [
    "# Let us apply Regularizations"
   ]
  },
  {
   "cell_type": "code",
   "execution_count": 422,
   "id": "strong-diabetes",
   "metadata": {},
   "outputs": [
    {
     "data": {
      "text/plain": [
       "LassoCV(cv=50, max_iter=200000, normalize=True)"
      ]
     },
     "execution_count": 422,
     "metadata": {},
     "output_type": "execute_result"
    }
   ],
   "source": [
    "from sklearn.linear_model import Ridge,Lasso ,RidgeCV,LassoCV , ElasticNet , ElasticNetCV,LinearRegression\n",
    "lassocv = LassoCV(alphas=None,cv= 50 , max_iter=200000, normalize=True)\n",
    "lassocv.fit(train_x,train_y)"
   ]
  },
  {
   "cell_type": "code",
   "execution_count": 423,
   "id": "wound-native",
   "metadata": {},
   "outputs": [
    {
     "data": {
      "text/plain": [
       "0.0001386052198670373"
      ]
     },
     "execution_count": 423,
     "metadata": {},
     "output_type": "execute_result"
    }
   ],
   "source": [
    "lassocv.alpha_"
   ]
  },
  {
   "cell_type": "code",
   "execution_count": 424,
   "id": "faced-exhibit",
   "metadata": {},
   "outputs": [
    {
     "name": "stdout",
     "output_type": "stream",
     "text": [
      "0.7792932449067382\n",
      "0.7609188668298045\n"
     ]
    }
   ],
   "source": [
    "lasso = Lasso(alpha=lassocv.alpha_)\n",
    "lasso.fit(train_x,train_y)\n",
    "print(lasso.score(train_x,train_y))\n",
    "print(lasso.score(test_x,test_y))"
   ]
  },
  {
   "cell_type": "code",
   "execution_count": 426,
   "id": "abroad-clarity",
   "metadata": {},
   "outputs": [
    {
     "data": {
      "text/plain": [
       "RidgeCV(alphas=array([5.72809356, 4.71863817, 5.40884022, 8.60430163, 2.69994023,\n",
       "       9.85152121, 0.54646258, 4.48508463, 6.57919011, 0.14145809,\n",
       "       7.86848083, 9.53088232, 5.18662617, 2.72113643, 0.2794684 ,\n",
       "       7.66105567, 3.73447071, 4.4141654 , 4.61127274, 2.30453638,\n",
       "       5.3160662 , 2.09390555, 3.01854958, 8.62053783, 6.99512272,\n",
       "       0.22310644, 4.86101586, 6.57209433, 4.34402059, 2.45125143,\n",
       "       4.39740512, 6.17100682, 7.96386594, 7.06577132, 7.27786554,\n",
       "       7.02925311, 3.31999832, 3.0932337 , 9.7336286 , 2.56385084,\n",
       "       8.35605457, 6.82754019, 2.39636033, 5.93716733, 2.61202175,\n",
       "       6.80141525, 0.41028416, 3.62323966, 8.55035587, 1.57737552]),\n",
       "        cv=50, normalize=True)"
      ]
     },
     "execution_count": 426,
     "metadata": {},
     "output_type": "execute_result"
    }
   ],
   "source": [
    "ridgecv = RidgeCV(alphas=np.random.uniform(0,10,50),cv = 50 , normalize=True)\n",
    "ridgecv.fit(train_x,train_y)"
   ]
  },
  {
   "cell_type": "code",
   "execution_count": null,
   "id": "diverse-engine",
   "metadata": {},
   "outputs": [],
   "source": [
    "ridgecv.alpha_"
   ]
  },
  {
   "cell_type": "code",
   "execution_count": 428,
   "id": "living-engineering",
   "metadata": {},
   "outputs": [
    {
     "name": "stdout",
     "output_type": "stream",
     "text": [
      "0.7792961921342716\n",
      "0.7608986097906363\n"
     ]
    }
   ],
   "source": [
    "ridge_lr = Ridge(alpha=ridgecv.alpha_)\n",
    "ridge_lr.fit(train_x,train_y)\n",
    "print(ridge_lr.score(train_x,train_y))\n",
    "print(ridge_lr.score(test_x,test_y))"
   ]
  },
  {
   "cell_type": "code",
   "execution_count": 431,
   "id": "golden-agent",
   "metadata": {},
   "outputs": [
    {
     "data": {
      "text/plain": [
       "ElasticNetCV(cv=50)"
      ]
     },
     "execution_count": 431,
     "metadata": {},
     "output_type": "execute_result"
    }
   ],
   "source": [
    "elastic= ElasticNetCV(alphas=None, cv = 50 )\n",
    "elastic.fit(train_x,train_y)"
   ]
  },
  {
   "cell_type": "code",
   "execution_count": 432,
   "id": "prompt-farming",
   "metadata": {},
   "outputs": [
    {
     "data": {
      "text/plain": [
       "0.003521020014950716"
      ]
     },
     "execution_count": 432,
     "metadata": {},
     "output_type": "execute_result"
    }
   ],
   "source": [
    "elastic.alpha_"
   ]
  },
  {
   "cell_type": "code",
   "execution_count": 433,
   "id": "formal-scholarship",
   "metadata": {},
   "outputs": [
    {
     "data": {
      "text/plain": [
       "0.5"
      ]
     },
     "execution_count": 433,
     "metadata": {},
     "output_type": "execute_result"
    }
   ],
   "source": [
    "elastic.l1_ratio_"
   ]
  },
  {
   "cell_type": "code",
   "execution_count": 436,
   "id": "auburn-mixture",
   "metadata": {},
   "outputs": [
    {
     "name": "stdout",
     "output_type": "stream",
     "text": [
      "0.778827511145127\n",
      "0.7610814531712039\n"
     ]
    }
   ],
   "source": [
    "elastic_lr = ElasticNet(alpha=elastic.alpha_ , l1_ratio=elastic.l1_ratio_)\n",
    "elastic_lr.fit(train_x,train_y)\n",
    "print(elastic_lr.score(train_x,train_y))\n",
    "print(elastic_lr.score(test_x,test_y))"
   ]
  },
  {
   "cell_type": "code",
   "execution_count": null,
   "id": "thousand-duncan",
   "metadata": {},
   "outputs": [],
   "source": []
  }
 ],
 "metadata": {
  "kernelspec": {
   "display_name": "Python 3",
   "language": "python",
   "name": "python3"
  },
  "language_info": {
   "codemirror_mode": {
    "name": "ipython",
    "version": 3
   },
   "file_extension": ".py",
   "mimetype": "text/x-python",
   "name": "python",
   "nbconvert_exporter": "python",
   "pygments_lexer": "ipython3",
   "version": "3.8.3"
  }
 },
 "nbformat": 4,
 "nbformat_minor": 5
}
